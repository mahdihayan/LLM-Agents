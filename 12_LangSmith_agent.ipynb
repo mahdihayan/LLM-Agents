{
  "cells": [
    {
      "cell_type": "markdown",
      "metadata": {
        "id": "view-in-github",
        "colab_type": "text"
      },
      "source": [
        "<a href=\"https://colab.research.google.com/github/mrhamedani/LLM-Agents/blob/main/12_LangSmith_agent.ipynb\" target=\"_parent\"><img src=\"https://colab.research.google.com/assets/colab-badge.svg\" alt=\"Open In Colab\"/></a>"
      ]
    },
    {
      "cell_type": "markdown",
      "source": [
        "Tracing and Evaluating LLMs with LangSmith.Medical (Agent with LangSmith)\n",
        "\n",
        "Models: OpenAI\n",
        "\n",
        "Colab Environment: CPU-High RAM.\n",
        "\n",
        "Keys:\n",
        "* Tracing LLMs\n",
        "* LangSmith\n",
        "* Agents.\n",
        "\n",
        "\n"
      ],
      "metadata": {
        "id": "f3cvnSVemTSU"
      }
    },
    {
      "cell_type": "markdown",
      "source": [
        "In this notebook, we will explore how to trace the different calls that occur in a LangChain Agent using LangSmith. We will use a familiar agent, employed in the LangChain section of the course, where a RAG system with medical information was created.\n",
        "\n",
        "So, not only will we observe the traces of the agent, but we will also examine the traces of the retriever. Additionally, we'll inspect the query sent to the vectorial database and the returned results.\n",
        "__________"
      ],
      "metadata": {
        "id": "knN-MUbEIMI8"
      }
    },
    {
      "cell_type": "code",
      "source": [
        "!pip install -q langchain==0.3.0\n",
        "!pip install -q langchain-community==0.3.0\n",
        "!pip install -q langchainhub==0.1.21\n",
        "!pip install -q datasets==3.0.0\n",
        "!pip install -q chromadb==0.5.5\n",
        "!pip install -q llama-cpp-python"
      ],
      "metadata": {
        "id": "-qT-CRD4szr8"
      },
      "execution_count": 1,
      "outputs": []
    },
    {
      "cell_type": "code",
      "source": [
        "!wget -c https://huggingface.co/TheBloke/Mistral-7B-Instruct-v0.1-GGUF/resolve/main/mistral-7b-instruct-v0.1.Q4_K_M.gguf -O mistral.gguf"
      ],
      "metadata": {
        "id": "dXqlOQowszoX"
      },
      "execution_count": null,
      "outputs": []
    },
    {
      "cell_type": "code",
      "source": [
        "import pandas as pd\n",
        "from datasets import Dataset\n",
        "\n",
        "data_dict = {\n",
        "    \"Question\": [\n",
        "        \"What are the symptoms of diabetes?\",\n",
        "        \"How to treat high blood pressure?\",\n",
        "        \"Is headache a symptom of COVID-19?\",\n",
        "        \"What causes anemia?\",\n",
        "        \"What is the treatment for asthma?\",\n",
        "        \"What are the side effects of chemotherapy?\",\n",
        "        \"How is a heart attack diagnosed?\",\n",
        "        \"What are common allergy symptoms?\",\n",
        "        \"What causes chronic fatigue?\",\n",
        "        \"How is depression treated?\",\n",
        "        \"What is the function of the liver?\",\n",
        "        \"What are symptoms of kidney failure?\",\n",
        "        \"How can I prevent osteoporosis?\",\n",
        "        \"What is a migraine and how is it treated?\",\n",
        "        \"What are symptoms of a urinary tract infection (UTI)?\",\n",
        "        \"What are the stages of cancer?\",\n",
        "        \"Can high cholesterol be reversed?\",\n",
        "        \"What are the signs of a stroke?\",\n",
        "        \"What are the early symptoms of HIV?\",\n",
        "        \"How is pregnancy confirmed medically?\",\n",
        "        \"What causes acne in teenagers?\",\n",
        "        \"What are the risks of obesity?\",\n",
        "        \"What is the flu vaccine and who should get it?\",\n",
        "        \"How is arthritis treated?\",\n",
        "        \"What is the role of insulin in the body?\",\n",
        "        \"What are symptoms of a thyroid disorder?\",\n",
        "        \"How does smoking affect the lungs?\",\n",
        "        \"What is eczema and how can it be managed?\",\n",
        "        \"Can anxiety cause physical symptoms?\",\n",
        "        \"How is ADHD diagnosed in children?\"\n",
        "    ],\n",
        "    \"Answer\": [\n",
        "        \"Common symptoms of diabetes include increased thirst, frequent urination, and fatigue.\",\n",
        "        \"Treatment includes lifestyle changes and medications such as ACE inhibitors and beta blockers.\",\n",
        "        \"Yes, headache can be a symptom of COVID-19, especially with fever and fatigue.\",\n",
        "        \"Anemia can be caused by iron deficiency, chronic disease, or blood loss.\",\n",
        "        \"Asthma is treated with bronchodilators, corticosteroids, and avoiding triggers.\",\n",
        "        \"Side effects of chemotherapy include nausea, fatigue, hair loss, and infection risk.\",\n",
        "        \"A heart attack is diagnosed through ECG, blood tests, and sometimes imaging.\",\n",
        "        \"Common allergy symptoms include sneezing, itchy eyes, runny nose, and skin rashes.\",\n",
        "        \"Chronic fatigue can result from viral infections, stress, or autoimmune disorders.\",\n",
        "        \"Depression is treated through therapy, medications, and lifestyle changes.\",\n",
        "        \"The liver detoxifies blood, produces bile, and stores energy in the form of glycogen.\",\n",
        "        \"Symptoms of kidney failure include swelling, fatigue, confusion, and reduced urine output.\",\n",
        "        \"Prevention includes calcium and vitamin D intake, weight-bearing exercise, and no smoking.\",\n",
        "        \"Migraines are intense headaches often treated with rest, medications, and avoiding triggers.\",\n",
        "        \"Symptoms include burning urination, frequent urge to urinate, and lower abdominal pain.\",\n",
        "        \"Cancer is staged from 0 to 4 based on tumor size, lymph node involvement, and metastasis.\",\n",
        "        \"Yes, with a healthy diet, exercise, and sometimes medication, cholesterol can improve.\",\n",
        "        \"Stroke signs include sudden weakness, confusion, slurred speech, and loss of balance.\",\n",
        "        \"Early HIV symptoms may include fever, sore throat, rash, and swollen glands.\",\n",
        "        \"Pregnancy is confirmed with blood/urine tests detecting hCG and ultrasound imaging.\",\n",
        "        \"Teen acne is mainly caused by hormonal changes, excess oil, and bacteria.\",\n",
        "        \"Obesity increases the risk of diabetes, heart disease, stroke, and certain cancers.\",\n",
        "        \"The flu vaccine protects against influenza viruses and is recommended annually.\",\n",
        "        \"Arthritis treatment involves anti-inflammatory drugs, physical therapy, and joint care.\",\n",
        "        \"Insulin helps cells absorb glucose from blood for energy or storage.\",\n",
        "        \"Symptoms include weight change, fatigue, hair thinning, and mood swings.\",\n",
        "        \"Smoking damages lung tissue, reduces oxygen intake, and raises cancer risk.\",\n",
        "        \"Eczema causes dry, itchy skin and is managed with moisturizers and steroids.\",\n",
        "        \"Yes, anxiety can cause symptoms like chest pain, nausea, and dizziness.\",\n",
        "        \"ADHD is diagnosed with behavior assessments, questionnaires, and clinical interviews.\"\n",
        "    ]\n",
        "}\n",
        "\n",
        "\n",
        "df = pd.DataFrame(data_dict)\n",
        "\n",
        "df.head()\n"
      ],
      "metadata": {
        "id": "HAsTm9Zmszln"
      },
      "execution_count": null,
      "outputs": []
    },
    {
      "cell_type": "code",
      "source": [
        "from langchain.document_loaders import DataFrameLoader\n",
        "from langchain.text_splitter import CharacterTextSplitter\n",
        "from langchain.vectorstores import Chroma\n",
        "from langchain.embeddings import HuggingFaceEmbeddings\n",
        "\n",
        "df_loader = DataFrameLoader(df, page_content_column=\"Answer\")\n",
        "docs = df_loader.load()\n",
        "\n",
        "text_splitter = CharacterTextSplitter(chunk_size=1250, chunk_overlap=100)\n",
        "texts = text_splitter.split_documents(docs)\n",
        "\n",
        "embeddings = HuggingFaceEmbeddings(model_name=\"sentence-transformers/all-MiniLM-L6-v2\")\n",
        "db = Chroma.from_documents(texts, embedding=embeddings)\n",
        "\n",
        "from langchain.chains import RetrievalQA\n",
        "retriever = db.as_retriever()\n",
        "\n",
        "from langchain_community.llms import LlamaCpp\n",
        "\n",
        "llm = LlamaCpp(\n",
        "    model_path=\"./mistral.gguf\",\n",
        "    temperature=0.7,\n",
        "    max_tokens=512,\n",
        "    top_p=0.95,\n",
        "    n_ctx=2048,\n",
        "    verbose=True,\n",
        ")\n",
        "\n",
        "qa = RetrievalQA.from_chain_type(llm=llm, retriever=retriever, chain_type=\"stuff\")\n"
      ],
      "metadata": {
        "id": "Q2aVjxmUszi2"
      },
      "execution_count": null,
      "outputs": []
    },
    {
      "cell_type": "code",
      "source": [
        "# LangSmith\n",
        "import os\n",
        "os.environ[\"LANGCHAIN_TRACING_V2\"] = \"true\"\n",
        "os.environ[\"LANGCHAIN_ENDPOINT\"] = \"https://api.smith.langchain.com\"\n",
        "os.environ[\"LANGCHAIN_API_KEY\"] = \"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\"\n",
        "os.environ[\"LANGCHAIN_PROJECT\"] = \"mistral\"\n"
      ],
      "metadata": {
        "id": "YkvT-7aRuoD5"
      },
      "execution_count": 11,
      "outputs": []
    },
    {
      "cell_type": "code",
      "source": [
        "!pip install -q duckduckgo-search\n",
        "\n",
        "from duckduckgo_search import DDGS\n",
        "\n",
        "def duckduckgo_search(query: str) -> str:\n",
        "    with DDGS() as ddgs:\n",
        "        results = list(ddgs.text(query, max_results=3))\n",
        "        if results:\n",
        "            return \"\\n\".join([r[\"body\"] for r in results])\n",
        "        return \"No result found.\"\n",
        "\n",
        "# تست\n",
        "duckduckgo_search(\"What is hypertension?\")\n",
        "\n"
      ],
      "metadata": {
        "colab": {
          "base_uri": "https://localhost:8080/",
          "height": 163
        },
        "id": "yPLC68fRtrVJ",
        "outputId": "1cfa4927-0f89-453a-deec-aa5031a35fdd"
      },
      "execution_count": 13,
      "outputs": [
        {
          "output_type": "execute_result",
          "data": {
            "text/plain": [
              "'Hypertension is a blood pressure reading of 130/80 mm Hg or higher. It can cause serious health problems and often has no symptoms. Learn about the causes, risk factors, diagnosis and treatment of hypertension.\\nHypertension is when the force of blood pushing against your artery walls is too high. It can cause serious complications like heart attack and stroke. Learn how to check, prevent and manage high blood pressure with lifestyle changes and medications.\\nHigh blood pressure, or hypertension, is when the force of blood pushing against the walls of your blood vessels is too high. It can lead to serious health problems such as heart attack and stroke. Learn about the blood pressure categories, how to measure and control your blood pressure, and the consequences of high blood pressure.'"
            ],
            "application/vnd.google.colaboratory.intrinsic+json": {
              "type": "string"
            }
          },
          "metadata": {},
          "execution_count": 13
        }
      ]
    },
    {
      "cell_type": "code",
      "source": [
        "from langchain.prompts import PromptTemplate\n",
        "\n",
        "prompt = PromptTemplate.from_template(\"\"\"\n",
        "You are an intelligent medical assistant designed to help users answer medical questions.\n",
        "You have access to the following tools:\n",
        "\n",
        "{tools}\n",
        "\n",
        "Use the following format:\n",
        "\n",
        "Question: the input question you must answer\n",
        "Thought: think about what to do\n",
        "Action: the action to take, should be one of [{tool_names}]\n",
        "Action Input: the input to the action\n",
        "Observation: the result of the action\n",
        "... (this Thought/Action/Action Input/Observation can repeat N times)\n",
        "Thought: I now know the final answer\n",
        "Final Answer: the final answer to the original input question\n",
        "\n",
        "Begin!\n",
        "\n",
        "Question: {input}\n",
        "{agent_scratchpad}\n",
        "\"\"\")\n"
      ],
      "metadata": {
        "id": "KN1RRxvTt8v8"
      },
      "execution_count": 14,
      "outputs": []
    },
    {
      "cell_type": "code",
      "source": [
        "from langchain.agents import Tool\n",
        "from langchain.agents import create_react_agent, AgentExecutor\n",
        "from langchain.chains.conversation.memory import ConversationBufferWindowMemory\n",
        "from langchain import hub\n",
        "\n",
        "# رپ‌کردن ابزار Medical KB\n",
        "def medical_qa_tool(input_text):\n",
        "    return f\"[Medical KB]: {qa.run(input_text)}\"\n",
        "\n",
        "# رپ‌کردن ابزار جست‌وجوی وب\n",
        "def duckduckgo_tool(input_text):\n",
        "    results = duckduckgo_search(input_text)\n",
        "    return f\"[DuckDuckGo]: {results}\"\n",
        "\n",
        "tools = [\n",
        "    Tool(\n",
        "        name=\"Medical KB\",\n",
        "        func=medical_qa_tool,\n",
        "        description=\"useful for answering medical questions by querying the medical knowledge base. Input should be a search query string..\"\n",
        "    ),\n",
        "    Tool(\n",
        "    name=\"DuckDuckGo Search\",\n",
        "    func=duckduckgo_tool,\n",
        "    description=\"Use this tool to search the web anonymously without API keys.\"\n",
        ")\n",
        "\n",
        "]\n",
        "\n",
        "memory = ConversationBufferWindowMemory(\n",
        "    memory_key=\"chat_history\",\n",
        "    k=3,\n",
        "    return_messages=True\n",
        ")\n",
        "\n",
        "\n",
        "from langchain.agents import initialize_agent, AgentType\n",
        "\n",
        "agent = initialize_agent(\n",
        "    tools= tools,\n",
        "    llm=llm,\n",
        "    agent=AgentType.ZERO_SHOT_REACT_DESCRIPTION,\n",
        "    verbose=True\n",
        ")\n",
        "\n",
        "agent_executor = AgentExecutor(\n",
        "    agent=agent,\n",
        "    tools=tools,\n",
        "    memory=memory,\n",
        "    verbose=True,\n",
        "    max_iterations=15,\n",
        "    handle_parsing_errors=True\n",
        ")\n"
      ],
      "metadata": {
        "id": "7JogtOf0szgW"
      },
      "execution_count": null,
      "outputs": []
    },
    {
      "cell_type": "code",
      "source": [
        "# تست ایجنت با دو ابزار مشخص‌شده\n",
        "response1 = agent_executor.invoke({\n",
        "    \"input\": \"What are the symptoms of anemia, and are there any recent updates in its treatment?\"\n",
        "})\n",
        "\n",
        "\n",
        "# چاپ خروجی‌ها\n",
        "print(response1)\n"
      ],
      "metadata": {
        "colab": {
          "base_uri": "https://localhost:8080/",
          "height": 497
        },
        "id": "ucfFlsMUszdu",
        "outputId": "8deacfbb-4531-43f5-9608-6881efdb5409"
      },
      "execution_count": 17,
      "outputs": [
        {
          "output_type": "stream",
          "name": "stdout",
          "text": [
            "\n",
            "\n",
            "\u001b[1m> Entering new AgentExecutor chain...\u001b[0m\n",
            "\n",
            "\n",
            "\u001b[1m> Entering new None chain...\u001b[0m\n"
          ]
        },
        {
          "output_type": "error",
          "ename": "TypeError",
          "evalue": "Agent.plan() got multiple values for argument 'intermediate_steps'",
          "traceback": [
            "\u001b[0;31m---------------------------------------------------------------------------\u001b[0m",
            "\u001b[0;31mTypeError\u001b[0m                                 Traceback (most recent call last)",
            "\u001b[0;32m<ipython-input-17-076b1b543bfa>\u001b[0m in \u001b[0;36m<cell line: 0>\u001b[0;34m()\u001b[0m\n\u001b[1;32m      1\u001b[0m \u001b[0;31m# تست ایجنت با دو ابزار مشخص‌شده\u001b[0m\u001b[0;34m\u001b[0m\u001b[0;34m\u001b[0m\u001b[0m\n\u001b[0;32m----> 2\u001b[0;31m response1 = agent_executor.invoke({\n\u001b[0m\u001b[1;32m      3\u001b[0m     \u001b[0;34m\"input\"\u001b[0m\u001b[0;34m:\u001b[0m \u001b[0;34m\"What are the symptoms of anemia, and are there any recent updates in its treatment?\"\u001b[0m\u001b[0;34m\u001b[0m\u001b[0;34m\u001b[0m\u001b[0m\n\u001b[1;32m      4\u001b[0m })\n\u001b[1;32m      5\u001b[0m \u001b[0;34m\u001b[0m\u001b[0m\n",
            "\u001b[0;32m/usr/local/lib/python3.11/dist-packages/langchain/chains/base.py\u001b[0m in \u001b[0;36minvoke\u001b[0;34m(self, input, config, **kwargs)\u001b[0m\n\u001b[1;32m    168\u001b[0m         \u001b[0;32mexcept\u001b[0m \u001b[0mBaseException\u001b[0m \u001b[0;32mas\u001b[0m \u001b[0me\u001b[0m\u001b[0;34m:\u001b[0m\u001b[0;34m\u001b[0m\u001b[0;34m\u001b[0m\u001b[0m\n\u001b[1;32m    169\u001b[0m             \u001b[0mrun_manager\u001b[0m\u001b[0;34m.\u001b[0m\u001b[0mon_chain_error\u001b[0m\u001b[0;34m(\u001b[0m\u001b[0me\u001b[0m\u001b[0;34m)\u001b[0m\u001b[0;34m\u001b[0m\u001b[0;34m\u001b[0m\u001b[0m\n\u001b[0;32m--> 170\u001b[0;31m             \u001b[0;32mraise\u001b[0m \u001b[0me\u001b[0m\u001b[0;34m\u001b[0m\u001b[0;34m\u001b[0m\u001b[0m\n\u001b[0m\u001b[1;32m    171\u001b[0m         \u001b[0mrun_manager\u001b[0m\u001b[0;34m.\u001b[0m\u001b[0mon_chain_end\u001b[0m\u001b[0;34m(\u001b[0m\u001b[0moutputs\u001b[0m\u001b[0;34m)\u001b[0m\u001b[0;34m\u001b[0m\u001b[0;34m\u001b[0m\u001b[0m\n\u001b[1;32m    172\u001b[0m \u001b[0;34m\u001b[0m\u001b[0m\n",
            "\u001b[0;32m/usr/local/lib/python3.11/dist-packages/langchain/chains/base.py\u001b[0m in \u001b[0;36minvoke\u001b[0;34m(self, input, config, **kwargs)\u001b[0m\n\u001b[1;32m    158\u001b[0m             \u001b[0mself\u001b[0m\u001b[0;34m.\u001b[0m\u001b[0m_validate_inputs\u001b[0m\u001b[0;34m(\u001b[0m\u001b[0minputs\u001b[0m\u001b[0;34m)\u001b[0m\u001b[0;34m\u001b[0m\u001b[0;34m\u001b[0m\u001b[0m\n\u001b[1;32m    159\u001b[0m             outputs = (\n\u001b[0;32m--> 160\u001b[0;31m                 \u001b[0mself\u001b[0m\u001b[0;34m.\u001b[0m\u001b[0m_call\u001b[0m\u001b[0;34m(\u001b[0m\u001b[0minputs\u001b[0m\u001b[0;34m,\u001b[0m \u001b[0mrun_manager\u001b[0m\u001b[0;34m=\u001b[0m\u001b[0mrun_manager\u001b[0m\u001b[0;34m)\u001b[0m\u001b[0;34m\u001b[0m\u001b[0;34m\u001b[0m\u001b[0m\n\u001b[0m\u001b[1;32m    161\u001b[0m                 \u001b[0;32mif\u001b[0m \u001b[0mnew_arg_supported\u001b[0m\u001b[0;34m\u001b[0m\u001b[0;34m\u001b[0m\u001b[0m\n\u001b[1;32m    162\u001b[0m                 \u001b[0;32melse\u001b[0m \u001b[0mself\u001b[0m\u001b[0;34m.\u001b[0m\u001b[0m_call\u001b[0m\u001b[0;34m(\u001b[0m\u001b[0minputs\u001b[0m\u001b[0;34m)\u001b[0m\u001b[0;34m\u001b[0m\u001b[0;34m\u001b[0m\u001b[0m\n",
            "\u001b[0;32m/usr/local/lib/python3.11/dist-packages/langchain/agents/agent.py\u001b[0m in \u001b[0;36m_call\u001b[0;34m(self, inputs, run_manager)\u001b[0m\n\u001b[1;32m   1627\u001b[0m         \u001b[0;31m# We now enter the agent loop (until it returns something).\u001b[0m\u001b[0;34m\u001b[0m\u001b[0;34m\u001b[0m\u001b[0m\n\u001b[1;32m   1628\u001b[0m         \u001b[0;32mwhile\u001b[0m \u001b[0mself\u001b[0m\u001b[0;34m.\u001b[0m\u001b[0m_should_continue\u001b[0m\u001b[0;34m(\u001b[0m\u001b[0miterations\u001b[0m\u001b[0;34m,\u001b[0m \u001b[0mtime_elapsed\u001b[0m\u001b[0;34m)\u001b[0m\u001b[0;34m:\u001b[0m\u001b[0;34m\u001b[0m\u001b[0;34m\u001b[0m\u001b[0m\n\u001b[0;32m-> 1629\u001b[0;31m             next_step_output = self._take_next_step(\n\u001b[0m\u001b[1;32m   1630\u001b[0m                 \u001b[0mname_to_tool_map\u001b[0m\u001b[0;34m,\u001b[0m\u001b[0;34m\u001b[0m\u001b[0;34m\u001b[0m\u001b[0m\n\u001b[1;32m   1631\u001b[0m                 \u001b[0mcolor_mapping\u001b[0m\u001b[0;34m,\u001b[0m\u001b[0;34m\u001b[0m\u001b[0;34m\u001b[0m\u001b[0m\n",
            "\u001b[0;32m/usr/local/lib/python3.11/dist-packages/langchain/agents/agent.py\u001b[0m in \u001b[0;36m_take_next_step\u001b[0;34m(self, name_to_tool_map, color_mapping, inputs, intermediate_steps, run_manager)\u001b[0m\n\u001b[1;32m   1333\u001b[0m     ) -> Union[AgentFinish, List[Tuple[AgentAction, str]]]:\n\u001b[1;32m   1334\u001b[0m         return self._consume_next_step(\n\u001b[0;32m-> 1335\u001b[0;31m             [\n\u001b[0m\u001b[1;32m   1336\u001b[0m                 \u001b[0ma\u001b[0m\u001b[0;34m\u001b[0m\u001b[0;34m\u001b[0m\u001b[0m\n\u001b[1;32m   1337\u001b[0m                 for a in self._iter_next_step(\n",
            "\u001b[0;32m/usr/local/lib/python3.11/dist-packages/langchain/agents/agent.py\u001b[0m in \u001b[0;36m<listcomp>\u001b[0;34m(.0)\u001b[0m\n\u001b[1;32m   1333\u001b[0m     ) -> Union[AgentFinish, List[Tuple[AgentAction, str]]]:\n\u001b[1;32m   1334\u001b[0m         return self._consume_next_step(\n\u001b[0;32m-> 1335\u001b[0;31m             [\n\u001b[0m\u001b[1;32m   1336\u001b[0m                 \u001b[0ma\u001b[0m\u001b[0;34m\u001b[0m\u001b[0;34m\u001b[0m\u001b[0m\n\u001b[1;32m   1337\u001b[0m                 for a in self._iter_next_step(\n",
            "\u001b[0;32m/usr/local/lib/python3.11/dist-packages/langchain/agents/agent.py\u001b[0m in \u001b[0;36m_iter_next_step\u001b[0;34m(self, name_to_tool_map, color_mapping, inputs, intermediate_steps, run_manager)\u001b[0m\n\u001b[1;32m   1361\u001b[0m \u001b[0;34m\u001b[0m\u001b[0m\n\u001b[1;32m   1362\u001b[0m             \u001b[0;31m# Call the LLM to see what to do.\u001b[0m\u001b[0;34m\u001b[0m\u001b[0;34m\u001b[0m\u001b[0m\n\u001b[0;32m-> 1363\u001b[0;31m             output = self._action_agent.plan(\n\u001b[0m\u001b[1;32m   1364\u001b[0m                 \u001b[0mintermediate_steps\u001b[0m\u001b[0;34m,\u001b[0m\u001b[0;34m\u001b[0m\u001b[0;34m\u001b[0m\u001b[0m\n\u001b[1;32m   1365\u001b[0m                 \u001b[0mcallbacks\u001b[0m\u001b[0;34m=\u001b[0m\u001b[0mrun_manager\u001b[0m\u001b[0;34m.\u001b[0m\u001b[0mget_child\u001b[0m\u001b[0;34m(\u001b[0m\u001b[0;34m)\u001b[0m \u001b[0;32mif\u001b[0m \u001b[0mrun_manager\u001b[0m \u001b[0;32melse\u001b[0m \u001b[0;32mNone\u001b[0m\u001b[0;34m,\u001b[0m\u001b[0;34m\u001b[0m\u001b[0;34m\u001b[0m\u001b[0m\n",
            "\u001b[0;32m/usr/local/lib/python3.11/dist-packages/langchain/agents/agent.py\u001b[0m in \u001b[0;36mplan\u001b[0;34m(self, intermediate_steps, callbacks, **kwargs)\u001b[0m\n\u001b[1;32m    462\u001b[0m             \u001b[0;31m# Because the response from the plan is not a generator, we need to\u001b[0m\u001b[0;34m\u001b[0m\u001b[0;34m\u001b[0m\u001b[0m\n\u001b[1;32m    463\u001b[0m             \u001b[0;31m# accumulate the output into final output and return that.\u001b[0m\u001b[0;34m\u001b[0m\u001b[0;34m\u001b[0m\u001b[0m\n\u001b[0;32m--> 464\u001b[0;31m             \u001b[0;32mfor\u001b[0m \u001b[0mchunk\u001b[0m \u001b[0;32min\u001b[0m \u001b[0mself\u001b[0m\u001b[0;34m.\u001b[0m\u001b[0mrunnable\u001b[0m\u001b[0;34m.\u001b[0m\u001b[0mstream\u001b[0m\u001b[0;34m(\u001b[0m\u001b[0minputs\u001b[0m\u001b[0;34m,\u001b[0m \u001b[0mconfig\u001b[0m\u001b[0;34m=\u001b[0m\u001b[0;34m{\u001b[0m\u001b[0;34m\"callbacks\"\u001b[0m\u001b[0;34m:\u001b[0m \u001b[0mcallbacks\u001b[0m\u001b[0;34m}\u001b[0m\u001b[0;34m)\u001b[0m\u001b[0;34m:\u001b[0m\u001b[0;34m\u001b[0m\u001b[0;34m\u001b[0m\u001b[0m\n\u001b[0m\u001b[1;32m    465\u001b[0m                 \u001b[0;32mif\u001b[0m \u001b[0mfinal_output\u001b[0m \u001b[0;32mis\u001b[0m \u001b[0;32mNone\u001b[0m\u001b[0;34m:\u001b[0m\u001b[0;34m\u001b[0m\u001b[0;34m\u001b[0m\u001b[0m\n\u001b[1;32m    466\u001b[0m                     \u001b[0mfinal_output\u001b[0m \u001b[0;34m=\u001b[0m \u001b[0mchunk\u001b[0m\u001b[0;34m\u001b[0m\u001b[0;34m\u001b[0m\u001b[0m\n",
            "\u001b[0;32m/usr/local/lib/python3.11/dist-packages/langchain/agents/agent.py\u001b[0m in \u001b[0;36mstream\u001b[0;34m(self, input, config, **kwargs)\u001b[0m\n\u001b[1;32m   1776\u001b[0m             \u001b[0;34m**\u001b[0m\u001b[0mkwargs\u001b[0m\u001b[0;34m,\u001b[0m\u001b[0;34m\u001b[0m\u001b[0;34m\u001b[0m\u001b[0m\n\u001b[1;32m   1777\u001b[0m         )\n\u001b[0;32m-> 1778\u001b[0;31m         \u001b[0;32mfor\u001b[0m \u001b[0mstep\u001b[0m \u001b[0;32min\u001b[0m \u001b[0miterator\u001b[0m\u001b[0;34m:\u001b[0m\u001b[0;34m\u001b[0m\u001b[0;34m\u001b[0m\u001b[0m\n\u001b[0m\u001b[1;32m   1779\u001b[0m             \u001b[0;32myield\u001b[0m \u001b[0mstep\u001b[0m\u001b[0;34m\u001b[0m\u001b[0;34m\u001b[0m\u001b[0m\n\u001b[1;32m   1780\u001b[0m \u001b[0;34m\u001b[0m\u001b[0m\n",
            "\u001b[0;32m/usr/local/lib/python3.11/dist-packages/langchain/agents/agent_iterator.py\u001b[0m in \u001b[0;36m__iter__\u001b[0;34m(self)\u001b[0m\n\u001b[1;32m    197\u001b[0m                 \u001b[0;31m# yielding action and observation as they are generated\u001b[0m\u001b[0;34m\u001b[0m\u001b[0;34m\u001b[0m\u001b[0m\n\u001b[1;32m    198\u001b[0m                 \u001b[0mnext_step_seq\u001b[0m\u001b[0;34m:\u001b[0m \u001b[0mNextStepOutput\u001b[0m \u001b[0;34m=\u001b[0m \u001b[0;34m[\u001b[0m\u001b[0;34m]\u001b[0m\u001b[0;34m\u001b[0m\u001b[0;34m\u001b[0m\u001b[0m\n\u001b[0;32m--> 199\u001b[0;31m                 for chunk in self.agent_executor._iter_next_step(\n\u001b[0m\u001b[1;32m    200\u001b[0m                     \u001b[0mself\u001b[0m\u001b[0;34m.\u001b[0m\u001b[0mname_to_tool_map\u001b[0m\u001b[0;34m,\u001b[0m\u001b[0;34m\u001b[0m\u001b[0;34m\u001b[0m\u001b[0m\n\u001b[1;32m    201\u001b[0m                     \u001b[0mself\u001b[0m\u001b[0;34m.\u001b[0m\u001b[0mcolor_mapping\u001b[0m\u001b[0;34m,\u001b[0m\u001b[0;34m\u001b[0m\u001b[0;34m\u001b[0m\u001b[0m\n",
            "\u001b[0;32m/usr/local/lib/python3.11/dist-packages/langchain/agents/agent.py\u001b[0m in \u001b[0;36m_iter_next_step\u001b[0;34m(self, name_to_tool_map, color_mapping, inputs, intermediate_steps, run_manager)\u001b[0m\n\u001b[1;32m   1361\u001b[0m \u001b[0;34m\u001b[0m\u001b[0m\n\u001b[1;32m   1362\u001b[0m             \u001b[0;31m# Call the LLM to see what to do.\u001b[0m\u001b[0;34m\u001b[0m\u001b[0;34m\u001b[0m\u001b[0m\n\u001b[0;32m-> 1363\u001b[0;31m             output = self._action_agent.plan(\n\u001b[0m\u001b[1;32m   1364\u001b[0m                 \u001b[0mintermediate_steps\u001b[0m\u001b[0;34m,\u001b[0m\u001b[0;34m\u001b[0m\u001b[0;34m\u001b[0m\u001b[0m\n\u001b[1;32m   1365\u001b[0m                 \u001b[0mcallbacks\u001b[0m\u001b[0;34m=\u001b[0m\u001b[0mrun_manager\u001b[0m\u001b[0;34m.\u001b[0m\u001b[0mget_child\u001b[0m\u001b[0;34m(\u001b[0m\u001b[0;34m)\u001b[0m \u001b[0;32mif\u001b[0m \u001b[0mrun_manager\u001b[0m \u001b[0;32melse\u001b[0m \u001b[0;32mNone\u001b[0m\u001b[0;34m,\u001b[0m\u001b[0;34m\u001b[0m\u001b[0;34m\u001b[0m\u001b[0m\n",
            "\u001b[0;31mTypeError\u001b[0m: Agent.plan() got multiple values for argument 'intermediate_steps'"
          ]
        }
      ]
    }
  ],
  "metadata": {
    "colab": {
      "provenance": [],
      "gpuType": "T4",
      "include_colab_link": true
    },
    "kernelspec": {
      "display_name": "Python 3",
      "name": "python3"
    },
    "language_info": {
      "name": "python",
      "version": "3.9.12"
    },
    "accelerator": "GPU"
  },
  "nbformat": 4,
  "nbformat_minor": 0
}