{
  "nbformat": 4,
  "nbformat_minor": 0,
  "metadata": {
    "colab": {
      "provenance": [],
      "mount_file_id": "https://github.com/mrhamedani/How-to-apply-popular-LLMs/blob/main/%E2%80%8C%E2%80%8C4.%20BBCNews_Chromadb_Liama.ipynb",
      "authorship_tag": "ABX9TyPRaI7hvww1v+vz4v9QO6oA",
      "include_colab_link": true
    },
    "kernelspec": {
      "name": "python3",
      "display_name": "Python 3"
    },
    "language_info": {
      "name": "python"
    }
  },
  "cells": [
    {
      "cell_type": "markdown",
      "metadata": {
        "id": "view-in-github",
        "colab_type": "text"
      },
      "source": [
        "<a href=\"https://colab.research.google.com/github/mrhamedani/LLM-Agents/blob/main/%E2%80%8C%E2%80%8C4.%20BBCNews_Chromadb_Liama.ipynb\" target=\"_parent\"><img src=\"https://colab.research.google.com/assets/colab-badge.svg\" alt=\"Open In Colab\"/></a>"
      ]
    },
    {
      "cell_type": "code",
      "source": [
        "!pip install transformers --upgrade\n",
        "!pip install sentence-transformers --upgrade\n",
        "!pip install chromadb --upgrade"
      ],
      "metadata": {
        "id": "hCD18oMGXI2p",
        "collapsed": true
      },
      "execution_count": null,
      "outputs": []
    },
    {
      "cell_type": "code",
      "source": [
        "import numpy as np\n",
        "import pandas as pd\n",
        "from google.colab import files\n",
        "import transformers\n",
        "import sentence_transformers\n",
        "from sentence_transformers import SentenceTransformer\n",
        "import chromadb\n",
        "from datetime import datetime\n",
        "import matplotlib.pyplot as plt\n",
        "from sklearn.decomposition import PCA\n",
        "from transformers import AutoTokenizer, AutoModelForCausalLM, pipeline"
      ],
      "metadata": {
        "collapsed": true,
        "id": "-7TWaZMucJ6k"
      },
      "execution_count": 2,
      "outputs": []
    },
    {
      "cell_type": "markdown",
      "source": [
        "## Download and prepare the Dataset\n",
        " Log into Kaggle and go to the link https://www.kaggle.com/datasets/kotartemiy/topic-labeled-news-dataset to download\n",
        "\n",
        "Using the Kaggle API JSON file, I saved the data set directly in the Google Colab temporary memory"
      ],
      "metadata": {
        "id": "V4YkVDHRdcBz"
      }
    },
    {
      "cell_type": "code",
      "source": [
        "print(\"Transformers version:\", transformers.__version__)\n",
        "print(\"Sentence-Transformers version:\", sentence_transformers.__version__)\n",
        "print(\"ChromaDB version:\", chromadb.__version__)"
      ],
      "metadata": {
        "colab": {
          "base_uri": "https://localhost:8080/"
        },
        "id": "hvrn4ObJjxok",
        "outputId": "4240e797-cf4f-4bd8-b102-805737c06961"
      },
      "execution_count": 3,
      "outputs": [
        {
          "output_type": "stream",
          "name": "stdout",
          "text": [
            "Transformers version: 4.49.0\n",
            "Sentence-Transformers version: 3.4.1\n",
            "ChromaDB version: 0.6.3\n"
          ]
        }
      ]
    },
    {
      "cell_type": "code",
      "source": [
        "files.upload()\n",
        "!kaggle datasets download -d gpreda/bbc-news\n",
        "!unzip bbc-news.zip"
      ],
      "metadata": {
        "id": "jegEG_7idbkZ",
        "collapsed": true
      },
      "execution_count": null,
      "outputs": []
    },
    {
      "cell_type": "markdown",
      "source": [
        "ChromaDB requires that the data has a unique identifier. You can achieve it with the statement below, which will create a new column called **Id**."
      ],
      "metadata": {
        "id": "bWkD4nfwiCzh"
      }
    },
    {
      "cell_type": "code",
      "source": [
        "news = pd.read_csv('./bbc_news.csv')\n",
        "MAX_NEWS = 1000\n",
        "DOCUMENT=\"description\"\n",
        "TOPIC=\"title\"\n",
        "news[\"id\"] = news.index\n",
        "news.head(3)"
      ],
      "metadata": {
        "id": "ZTb0AOS_fy-T",
        "outputId": "6cb4beb3-d219-4cac-d811-216593b088a0",
        "colab": {
          "base_uri": "https://localhost:8080/",
          "height": 195
        }
      },
      "execution_count": 5,
      "outputs": [
        {
          "output_type": "execute_result",
          "data": {
            "text/plain": [
              "                                               title  \\\n",
              "0  Ukraine: Angry Zelensky vows to punish Russian...   \n",
              "1  War in Ukraine: Taking cover in a town under a...   \n",
              "2         Ukraine war 'catastrophic for global food'   \n",
              "\n",
              "                         pubDate  \\\n",
              "0  Mon, 07 Mar 2022 08:01:56 GMT   \n",
              "1  Sun, 06 Mar 2022 22:49:58 GMT   \n",
              "2  Mon, 07 Mar 2022 00:14:42 GMT   \n",
              "\n",
              "                                               guid  \\\n",
              "0  https://www.bbc.co.uk/news/world-europe-60638042   \n",
              "1  https://www.bbc.co.uk/news/world-europe-60641873   \n",
              "2      https://www.bbc.co.uk/news/business-60623941   \n",
              "\n",
              "                                                link  \\\n",
              "0  https://www.bbc.co.uk/news/world-europe-606380...   \n",
              "1  https://www.bbc.co.uk/news/world-europe-606418...   \n",
              "2  https://www.bbc.co.uk/news/business-60623941?a...   \n",
              "\n",
              "                                         description  id  \n",
              "0  The Ukrainian president says the country will ...   0  \n",
              "1  Jeremy Bowen was on the frontline in Irpin, as...   1  \n",
              "2  One of the world's biggest fertiliser firms sa...   2  "
            ],
            "text/html": [
              "\n",
              "  <div id=\"df-f6560e0c-efab-41a8-a6f7-6ad4da739a25\" class=\"colab-df-container\">\n",
              "    <div>\n",
              "<style scoped>\n",
              "    .dataframe tbody tr th:only-of-type {\n",
              "        vertical-align: middle;\n",
              "    }\n",
              "\n",
              "    .dataframe tbody tr th {\n",
              "        vertical-align: top;\n",
              "    }\n",
              "\n",
              "    .dataframe thead th {\n",
              "        text-align: right;\n",
              "    }\n",
              "</style>\n",
              "<table border=\"1\" class=\"dataframe\">\n",
              "  <thead>\n",
              "    <tr style=\"text-align: right;\">\n",
              "      <th></th>\n",
              "      <th>title</th>\n",
              "      <th>pubDate</th>\n",
              "      <th>guid</th>\n",
              "      <th>link</th>\n",
              "      <th>description</th>\n",
              "      <th>id</th>\n",
              "    </tr>\n",
              "  </thead>\n",
              "  <tbody>\n",
              "    <tr>\n",
              "      <th>0</th>\n",
              "      <td>Ukraine: Angry Zelensky vows to punish Russian...</td>\n",
              "      <td>Mon, 07 Mar 2022 08:01:56 GMT</td>\n",
              "      <td>https://www.bbc.co.uk/news/world-europe-60638042</td>\n",
              "      <td>https://www.bbc.co.uk/news/world-europe-606380...</td>\n",
              "      <td>The Ukrainian president says the country will ...</td>\n",
              "      <td>0</td>\n",
              "    </tr>\n",
              "    <tr>\n",
              "      <th>1</th>\n",
              "      <td>War in Ukraine: Taking cover in a town under a...</td>\n",
              "      <td>Sun, 06 Mar 2022 22:49:58 GMT</td>\n",
              "      <td>https://www.bbc.co.uk/news/world-europe-60641873</td>\n",
              "      <td>https://www.bbc.co.uk/news/world-europe-606418...</td>\n",
              "      <td>Jeremy Bowen was on the frontline in Irpin, as...</td>\n",
              "      <td>1</td>\n",
              "    </tr>\n",
              "    <tr>\n",
              "      <th>2</th>\n",
              "      <td>Ukraine war 'catastrophic for global food'</td>\n",
              "      <td>Mon, 07 Mar 2022 00:14:42 GMT</td>\n",
              "      <td>https://www.bbc.co.uk/news/business-60623941</td>\n",
              "      <td>https://www.bbc.co.uk/news/business-60623941?a...</td>\n",
              "      <td>One of the world's biggest fertiliser firms sa...</td>\n",
              "      <td>2</td>\n",
              "    </tr>\n",
              "  </tbody>\n",
              "</table>\n",
              "</div>\n",
              "    <div class=\"colab-df-buttons\">\n",
              "\n",
              "  <div class=\"colab-df-container\">\n",
              "    <button class=\"colab-df-convert\" onclick=\"convertToInteractive('df-f6560e0c-efab-41a8-a6f7-6ad4da739a25')\"\n",
              "            title=\"Convert this dataframe to an interactive table.\"\n",
              "            style=\"display:none;\">\n",
              "\n",
              "  <svg xmlns=\"http://www.w3.org/2000/svg\" height=\"24px\" viewBox=\"0 -960 960 960\">\n",
              "    <path d=\"M120-120v-720h720v720H120Zm60-500h600v-160H180v160Zm220 220h160v-160H400v160Zm0 220h160v-160H400v160ZM180-400h160v-160H180v160Zm440 0h160v-160H620v160ZM180-180h160v-160H180v160Zm440 0h160v-160H620v160Z\"/>\n",
              "  </svg>\n",
              "    </button>\n",
              "\n",
              "  <style>\n",
              "    .colab-df-container {\n",
              "      display:flex;\n",
              "      gap: 12px;\n",
              "    }\n",
              "\n",
              "    .colab-df-convert {\n",
              "      background-color: #E8F0FE;\n",
              "      border: none;\n",
              "      border-radius: 50%;\n",
              "      cursor: pointer;\n",
              "      display: none;\n",
              "      fill: #1967D2;\n",
              "      height: 32px;\n",
              "      padding: 0 0 0 0;\n",
              "      width: 32px;\n",
              "    }\n",
              "\n",
              "    .colab-df-convert:hover {\n",
              "      background-color: #E2EBFA;\n",
              "      box-shadow: 0px 1px 2px rgba(60, 64, 67, 0.3), 0px 1px 3px 1px rgba(60, 64, 67, 0.15);\n",
              "      fill: #174EA6;\n",
              "    }\n",
              "\n",
              "    .colab-df-buttons div {\n",
              "      margin-bottom: 4px;\n",
              "    }\n",
              "\n",
              "    [theme=dark] .colab-df-convert {\n",
              "      background-color: #3B4455;\n",
              "      fill: #D2E3FC;\n",
              "    }\n",
              "\n",
              "    [theme=dark] .colab-df-convert:hover {\n",
              "      background-color: #434B5C;\n",
              "      box-shadow: 0px 1px 3px 1px rgba(0, 0, 0, 0.15);\n",
              "      filter: drop-shadow(0px 1px 2px rgba(0, 0, 0, 0.3));\n",
              "      fill: #FFFFFF;\n",
              "    }\n",
              "  </style>\n",
              "\n",
              "    <script>\n",
              "      const buttonEl =\n",
              "        document.querySelector('#df-f6560e0c-efab-41a8-a6f7-6ad4da739a25 button.colab-df-convert');\n",
              "      buttonEl.style.display =\n",
              "        google.colab.kernel.accessAllowed ? 'block' : 'none';\n",
              "\n",
              "      async function convertToInteractive(key) {\n",
              "        const element = document.querySelector('#df-f6560e0c-efab-41a8-a6f7-6ad4da739a25');\n",
              "        const dataTable =\n",
              "          await google.colab.kernel.invokeFunction('convertToInteractive',\n",
              "                                                    [key], {});\n",
              "        if (!dataTable) return;\n",
              "\n",
              "        const docLinkHtml = 'Like what you see? Visit the ' +\n",
              "          '<a target=\"_blank\" href=https://colab.research.google.com/notebooks/data_table.ipynb>data table notebook</a>'\n",
              "          + ' to learn more about interactive tables.';\n",
              "        element.innerHTML = '';\n",
              "        dataTable['output_type'] = 'display_data';\n",
              "        await google.colab.output.renderOutput(dataTable, element);\n",
              "        const docLink = document.createElement('div');\n",
              "        docLink.innerHTML = docLinkHtml;\n",
              "        element.appendChild(docLink);\n",
              "      }\n",
              "    </script>\n",
              "  </div>\n",
              "\n",
              "\n",
              "<div id=\"df-2f3b0b46-5bf9-4655-99b3-3248b086708f\">\n",
              "  <button class=\"colab-df-quickchart\" onclick=\"quickchart('df-2f3b0b46-5bf9-4655-99b3-3248b086708f')\"\n",
              "            title=\"Suggest charts\"\n",
              "            style=\"display:none;\">\n",
              "\n",
              "<svg xmlns=\"http://www.w3.org/2000/svg\" height=\"24px\"viewBox=\"0 0 24 24\"\n",
              "     width=\"24px\">\n",
              "    <g>\n",
              "        <path d=\"M19 3H5c-1.1 0-2 .9-2 2v14c0 1.1.9 2 2 2h14c1.1 0 2-.9 2-2V5c0-1.1-.9-2-2-2zM9 17H7v-7h2v7zm4 0h-2V7h2v10zm4 0h-2v-4h2v4z\"/>\n",
              "    </g>\n",
              "</svg>\n",
              "  </button>\n",
              "\n",
              "<style>\n",
              "  .colab-df-quickchart {\n",
              "      --bg-color: #E8F0FE;\n",
              "      --fill-color: #1967D2;\n",
              "      --hover-bg-color: #E2EBFA;\n",
              "      --hover-fill-color: #174EA6;\n",
              "      --disabled-fill-color: #AAA;\n",
              "      --disabled-bg-color: #DDD;\n",
              "  }\n",
              "\n",
              "  [theme=dark] .colab-df-quickchart {\n",
              "      --bg-color: #3B4455;\n",
              "      --fill-color: #D2E3FC;\n",
              "      --hover-bg-color: #434B5C;\n",
              "      --hover-fill-color: #FFFFFF;\n",
              "      --disabled-bg-color: #3B4455;\n",
              "      --disabled-fill-color: #666;\n",
              "  }\n",
              "\n",
              "  .colab-df-quickchart {\n",
              "    background-color: var(--bg-color);\n",
              "    border: none;\n",
              "    border-radius: 50%;\n",
              "    cursor: pointer;\n",
              "    display: none;\n",
              "    fill: var(--fill-color);\n",
              "    height: 32px;\n",
              "    padding: 0;\n",
              "    width: 32px;\n",
              "  }\n",
              "\n",
              "  .colab-df-quickchart:hover {\n",
              "    background-color: var(--hover-bg-color);\n",
              "    box-shadow: 0 1px 2px rgba(60, 64, 67, 0.3), 0 1px 3px 1px rgba(60, 64, 67, 0.15);\n",
              "    fill: var(--button-hover-fill-color);\n",
              "  }\n",
              "\n",
              "  .colab-df-quickchart-complete:disabled,\n",
              "  .colab-df-quickchart-complete:disabled:hover {\n",
              "    background-color: var(--disabled-bg-color);\n",
              "    fill: var(--disabled-fill-color);\n",
              "    box-shadow: none;\n",
              "  }\n",
              "\n",
              "  .colab-df-spinner {\n",
              "    border: 2px solid var(--fill-color);\n",
              "    border-color: transparent;\n",
              "    border-bottom-color: var(--fill-color);\n",
              "    animation:\n",
              "      spin 1s steps(1) infinite;\n",
              "  }\n",
              "\n",
              "  @keyframes spin {\n",
              "    0% {\n",
              "      border-color: transparent;\n",
              "      border-bottom-color: var(--fill-color);\n",
              "      border-left-color: var(--fill-color);\n",
              "    }\n",
              "    20% {\n",
              "      border-color: transparent;\n",
              "      border-left-color: var(--fill-color);\n",
              "      border-top-color: var(--fill-color);\n",
              "    }\n",
              "    30% {\n",
              "      border-color: transparent;\n",
              "      border-left-color: var(--fill-color);\n",
              "      border-top-color: var(--fill-color);\n",
              "      border-right-color: var(--fill-color);\n",
              "    }\n",
              "    40% {\n",
              "      border-color: transparent;\n",
              "      border-right-color: var(--fill-color);\n",
              "      border-top-color: var(--fill-color);\n",
              "    }\n",
              "    60% {\n",
              "      border-color: transparent;\n",
              "      border-right-color: var(--fill-color);\n",
              "    }\n",
              "    80% {\n",
              "      border-color: transparent;\n",
              "      border-right-color: var(--fill-color);\n",
              "      border-bottom-color: var(--fill-color);\n",
              "    }\n",
              "    90% {\n",
              "      border-color: transparent;\n",
              "      border-bottom-color: var(--fill-color);\n",
              "    }\n",
              "  }\n",
              "</style>\n",
              "\n",
              "  <script>\n",
              "    async function quickchart(key) {\n",
              "      const quickchartButtonEl =\n",
              "        document.querySelector('#' + key + ' button');\n",
              "      quickchartButtonEl.disabled = true;  // To prevent multiple clicks.\n",
              "      quickchartButtonEl.classList.add('colab-df-spinner');\n",
              "      try {\n",
              "        const charts = await google.colab.kernel.invokeFunction(\n",
              "            'suggestCharts', [key], {});\n",
              "      } catch (error) {\n",
              "        console.error('Error during call to suggestCharts:', error);\n",
              "      }\n",
              "      quickchartButtonEl.classList.remove('colab-df-spinner');\n",
              "      quickchartButtonEl.classList.add('colab-df-quickchart-complete');\n",
              "    }\n",
              "    (() => {\n",
              "      let quickchartButtonEl =\n",
              "        document.querySelector('#df-2f3b0b46-5bf9-4655-99b3-3248b086708f button');\n",
              "      quickchartButtonEl.style.display =\n",
              "        google.colab.kernel.accessAllowed ? 'block' : 'none';\n",
              "    })();\n",
              "  </script>\n",
              "</div>\n",
              "\n",
              "    </div>\n",
              "  </div>\n"
            ],
            "application/vnd.google.colaboratory.intrinsic+json": {
              "type": "dataframe",
              "variable_name": "news",
              "summary": "{\n  \"name\": \"news\",\n  \"rows\": 42115,\n  \"fields\": [\n    {\n      \"column\": \"title\",\n      \"properties\": {\n        \"dtype\": \"string\",\n        \"num_unique_values\": 39653,\n        \"samples\": [\n          \"Ex-officer will not be prosecuted over 10 murders\",\n          \"Woman hit by royal police escort motorbike dies\",\n          \"CEO Secrets: 'Don't be trapped by your job title'\"\n        ],\n        \"semantic_type\": \"\",\n        \"description\": \"\"\n      }\n    },\n    {\n      \"column\": \"pubDate\",\n      \"properties\": {\n        \"dtype\": \"object\",\n        \"num_unique_values\": 40189,\n        \"samples\": [\n          \"Sat, 01 Jun 2024 21:31:46 GMT\",\n          \"Tue, 31 Jan 2023 10:16:02 GMT\",\n          \"Sun, 25 Aug 2024 19:49:41 GMT\"\n        ],\n        \"semantic_type\": \"\",\n        \"description\": \"\"\n      }\n    },\n    {\n      \"column\": \"guid\",\n      \"properties\": {\n        \"dtype\": \"string\",\n        \"num_unique_values\": 39203,\n        \"samples\": [\n          \"https://www.bbc.co.uk/news/business-66544391\",\n          \"https://www.bbc.com/news/articles/ckg2ryxp969o#4\",\n          \"https://www.bbc.co.uk/news/uk-wales-63616915\"\n        ],\n        \"semantic_type\": \"\",\n        \"description\": \"\"\n      }\n    },\n    {\n      \"column\": \"link\",\n      \"properties\": {\n        \"dtype\": \"string\",\n        \"num_unique_values\": 37856,\n        \"samples\": [\n          \"https://www.bbc.com/news/articles/c6p2p64zdxro\",\n          \"https://www.bbc.com/news/articles/cpwg3z4yqd8o\",\n          \"https://www.bbc.co.uk/news/uk-61122240?at_medium=RSS&at_campaign=KARANGA\"\n        ],\n        \"semantic_type\": \"\",\n        \"description\": \"\"\n      }\n    },\n    {\n      \"column\": \"description\",\n      \"properties\": {\n        \"dtype\": \"string\",\n        \"num_unique_values\": 38731,\n        \"samples\": [\n          \"Suspicion and frustration flared into crowd unrest and, in the background, an iconic image of a historic rivalry was captured.\",\n          \"The BBC's Celia Hatton breaks down Xi Jinping's caffeine habits, and why they might be a subtle power play.\",\n          \"They've usually got fur coats, but pets still need help to stay warm during wintry weather.\"\n        ],\n        \"semantic_type\": \"\",\n        \"description\": \"\"\n      }\n    },\n    {\n      \"column\": \"id\",\n      \"properties\": {\n        \"dtype\": \"number\",\n        \"std\": 12157,\n        \"min\": 0,\n        \"max\": 42114,\n        \"num_unique_values\": 42115,\n        \"samples\": [\n          24790,\n          29911,\n          21220\n        ],\n        \"semantic_type\": \"\",\n        \"description\": \"\"\n      }\n    }\n  ]\n}"
            }
          },
          "metadata": {},
          "execution_count": 5
        }
      ]
    },
    {
      "cell_type": "code",
      "source": [
        "subset_news = news.head(MAX_NEWS)     #Because it is just a example we select a small portion of News.\n",
        "chroma_client = chromadb.PersistentClient(path=\"./chromadb\")   # We specify the client name and storage path for ChromaDB (also, the database must be permanent, not temporary)."
      ],
      "metadata": {
        "id": "EXYeisH2iMWV"
      },
      "execution_count": 6,
      "outputs": []
    },
    {
      "cell_type": "markdown",
      "source": [
        "## Filling and Querying the ChromaDB Database\n",
        "The Data in ChromaDB is stored in collections. If the collection previously exist is necessary to delete it.\n",
        "\n",
        "In the next lines, the collection is created by calling the ***create_collection*** function in the ***chroma_client*** created above."
      ],
      "metadata": {
        "id": "97pIJpFZlFaS"
      }
    },
    {
      "cell_type": "code",
      "source": [
        "collection_name = \"news_collection\" + datetime.now().strftime(\"%s\")      # create a new unique name for the collection\n",
        "collection_names = chroma_client.list_collections()           # get list existing collections\n",
        "if collection_name in collection_names:           # if the collection already exists, delete it\n",
        "    chroma_client.delete_collection(name=collection_name)          # create a new collection\n",
        "\n",
        "collection = chroma_client.create_collection(name=collection_name)"
      ],
      "metadata": {
        "id": "xIqFYO80k9xc"
      },
      "execution_count": 7,
      "outputs": []
    },
    {
      "cell_type": "markdown",
      "source": [
        "The data must be added to the collection with the add function.\n",
        "At least three parts must be specified:\n",
        "\n",
        "**Documents** → full text of each news item (stored in a specific column of the dataset)\n",
        "\n",
        "**metadatas** → Meta information, such as the title or category of the news\n",
        "\n",
        "**ids** → a unique identifier for each data row\n",
        "\n",
        "**embedding**:To send and use information in Chroma DB, they must be captured as images"
      ],
      "metadata": {
        "id": "apxC-kQjlnGm"
      }
    },
    {
      "cell_type": "code",
      "source": [
        "embedding_model = SentenceTransformer(\"sentence-transformers/all-MiniLM-L6-v2\")     # choose a sentence transformer model\n",
        "embeddings = embedding_model.encode(subset_news[DOCUMENT].tolist(), convert_to_numpy=True)   # create embeddings\n",
        "\n",
        "# add embeddings to collection chromaDB\n",
        "collection.add(\n",
        "    documents=subset_news[DOCUMENT].tolist(),\n",
        "    metadatas=[{TOPIC: topic} for topic in subset_news[TOPIC].tolist()],\n",
        "    ids=[f\"id{x}\" for x in range(MAX_NEWS)],\n",
        "    embeddings=embeddings.tolist(),)"
      ],
      "metadata": {
        "id": "yJXl8y7rle4O",
        "collapsed": true
      },
      "execution_count": null,
      "outputs": []
    },
    {
      "cell_type": "code",
      "source": [
        "results = collection.query(query_texts=[\"laptop\"], n_results=10 )   # for each query text in the list ChromaDB searches, we get the top 10 results\n",
        "print(results)"
      ],
      "metadata": {
        "colab": {
          "base_uri": "https://localhost:8080/"
        },
        "id": "aWuSqbrxojkf",
        "outputId": "6adc60be-d20f-49a0-bac5-5d81da1e72b0"
      },
      "execution_count": 9,
      "outputs": [
        {
          "output_type": "stream",
          "name": "stderr",
          "text": [
            "/root/.cache/chroma/onnx_models/all-MiniLM-L6-v2/onnx.tar.gz: 100%|██████████| 79.3M/79.3M [00:10<00:00, 7.69MiB/s]\n"
          ]
        },
        {
          "output_type": "stream",
          "name": "stdout",
          "text": [
            "{'ids': [['id775', 'id707', 'id310', 'id587', 'id444', 'id751', 'id701', 'id862', 'id191', 'id740']], 'embeddings': None, 'documents': [['Photography student Thorsten Mjölnir captures the way students decorate their laptops.', 'Why sales of very basic mobile phones, without apps and internet connection, are increasing.', \"What do you do when your collection of millions of books keeps growing but your bookshelves don't?\", 'The developers of a powerful mini aircraft hope it will be used by the armed forces.', 'How tech is helping young families and couples regain their busy social lives after Covid.', 'Watch as Lee Zii Jia of Malaysia records a speed of 372km/h on his backhand point against Lakshya Sen of India in the All England Badminton Championships.', 'The Royal Mint has found a way to turn old circuit boards from phones, computers and TVs into gold.', 'A van was reportedly hijacked and driven to the venue, and a controlled explosion has since been carried out.', 'The Ukrainian president reveals his location in Kyiv in a new video shared on social media.', 'The Royal Mint has found a way to turn old circuit boards from phones, computers and televisions into gold.']], 'uris': None, 'data': None, 'metadatas': [[{'title': 'Laptop art: From Vans to Harry Styles'}, {'title': \"Not smart but clever? The return of 'dumbphones'\"}, {'title': 'Building a bigger home for the British Library collection'}, {'title': 'How a jetpack design helped create a flying motorbike'}, {'title': 'The popular apps aiming to tame the chaos of family life'}, {'title': \"All England Badminton Championships: Malaysia's Lee Zii Jia records 372km/h backhand\"}, {'title': 'E-waste: Royal Mint wants to turn your old phone into gold'}, {'title': \"Simon Coveney's visit to Belfast interrupted by security alert\"}, {'title': 'War in Ukraine: President Zelensky posts video from office in Kyiv'}, {'title': 'E-waste: Royal Mint wants to turn your old phone into gold'}]], 'distances': [[1.1066490411758423, 1.630934715270996, 1.6354169845581055, 1.6517924070358276, 1.655225157737732, 1.6666067838668823, 1.668237328529358, 1.672652244567871, 1.679142713546753, 1.688848614692688]], 'included': [<IncludeEnum.distances: 'distances'>, <IncludeEnum.documents: 'documents'>, <IncludeEnum.metadatas: 'metadatas'>]}\n"
          ]
        }
      ]
    },
    {
      "cell_type": "code",
      "source": [
        "print(collection.get(ids=\"id775\",include=[\"documents\", \"embeddings\"]))  # for test\n"
      ],
      "metadata": {
        "id": "mjZQQ6QVoyTL",
        "collapsed": true
      },
      "execution_count": null,
      "outputs": []
    },
    {
      "cell_type": "markdown",
      "source": [
        "## Loading the LLM and creating the prompt\n",
        "TRANSFORMERS!!\n",
        "\n",
        " We use transformers for working with language models (LLMs).\n",
        "The three main tools used here are:\n",
        "\n",
        "1️⃣ AutoTokenizer → An automatic tokenizer that converts text into tokens suitable for the model.\n",
        "\n",
        "2️⃣ AutoModelForCausalLM → Language models based on Causal Language Modeling (like GPT) for text generation.\n",
        "\n",
        "3️⃣ pipeline → A simple interface for performing NLP tasks such as text generation or text classification.  "
      ],
      "metadata": {
        "id": "YceBTDNA329G"
      }
    },
    {
      "cell_type": "code",
      "source": [
        "model_id = \"TinyLlama/TinyLlama-1.1B-Chat-v1.0\"        #model_id = \"databricks/dolly-v2-3b\"      Search for this powerful model in chatGPT !!\n",
        "tokenizer = AutoTokenizer.from_pretrained(model_id)\n",
        "lm_model = AutoModelForCausalLM.from_pretrained(model_id, trust_remote_code=True)"
      ],
      "metadata": {
        "id": "m0OIjfQxc3rW"
      },
      "execution_count": null,
      "outputs": []
    },
    {
      "cell_type": "markdown",
      "source": [
        "The model's response is limited to 256 tokens in answer\n",
        "\n",
        "**\"text-generation\"** is a predefined task in the Transformers library and is\n",
        "\n",
        "specifically designed for text generation models. It allows the model to generate new text based on the given input."
      ],
      "metadata": {
        "id": "X2Jlr5XC7BX1"
      }
    },
    {
      "cell_type": "code",
      "source": [
        "pipe = pipeline(\"text-generation\",\n",
        "    model=lm_model,\n",
        "    tokenizer=tokenizer,\n",
        "    max_new_tokens=256,\n",
        "    device_map=\"auto\",)  # CPU or GPU selection"
      ],
      "metadata": {
        "id": "4Gr-YtwXdCbI",
        "colab": {
          "base_uri": "https://localhost:8080/"
        },
        "outputId": "d6c66065-442a-47ea-bc7a-55627017ca04"
      },
      "execution_count": 16,
      "outputs": [
        {
          "output_type": "stream",
          "name": "stderr",
          "text": [
            "Device set to use cpu\n"
          ]
        }
      ]
    },
    {
      "cell_type": "markdown",
      "source": [
        "## Creating prompt\n"
      ],
      "metadata": {
        "id": "rXgffrVV7h84"
      }
    },
    {
      "cell_type": "code",
      "source": [
        "question = \"Can I buy a new Toshiba laptop?\"\n",
        "context = \" \".join([f\"#{str(i)}\" for i in results[\"documents\"][0]])\n",
        "#context = context[0:5120] limits the length of the context to 5120 characters to avoid these limitations.\n",
        "prompt_template = f\"\"\"\n",
        "Relevant context: {context}\n",
        "Considering the relevant context, answer the question.\n",
        "Question: {question}\n",
        "Answer: \"\"\"\n",
        "\n",
        "prompt_template"
      ],
      "metadata": {
        "id": "LxrmUcEGjwTc",
        "colab": {
          "base_uri": "https://localhost:8080/",
          "height": 127
        },
        "outputId": "0f9e8d70-c820-45d5-8640-be8d8183923f"
      },
      "execution_count": 17,
      "outputs": [
        {
          "output_type": "execute_result",
          "data": {
            "text/plain": [
              "\"\\nRelevant context: #Photography student Thorsten Mjölnir captures the way students decorate their laptops. #Why sales of very basic mobile phones, without apps and internet connection, are increasing. #What do you do when your collection of millions of books keeps growing but your bookshelves don't? #The developers of a powerful mini aircraft hope it will be used by the armed forces. #How tech is helping young families and couples regain their busy social lives after Covid. #Watch as Lee Zii Jia of Malaysia records a speed of 372km/h on his backhand point against Lakshya Sen of India in the All England Badminton Championships. #The Royal Mint has found a way to turn old circuit boards from phones, computers and TVs into gold. #A van was reportedly hijacked and driven to the venue, and a controlled explosion has since been carried out. #The Ukrainian president reveals his location in Kyiv in a new video shared on social media. #The Royal Mint has found a way to turn old circuit boards from phones, computers and televisions into gold.\\nConsidering the relevant context, answer the question.\\nQuestion: Can I buy a new Toshiba laptop?\\nAnswer: \""
            ],
            "application/vnd.google.colaboratory.intrinsic+json": {
              "type": "string"
            }
          },
          "metadata": {},
          "execution_count": 17
        }
      ]
    },
    {
      "cell_type": "code",
      "source": [
        "lm_response = pipe(prompt_template)\n",
        "print(lm_response[0][\"generated_text\"])"
      ],
      "metadata": {
        "id": "l9ZiP7QekFYS",
        "colab": {
          "base_uri": "https://localhost:8080/"
        },
        "outputId": "3987b267-4e01-41d3-b343-fe12f2752f77"
      },
      "execution_count": 18,
      "outputs": [
        {
          "output_type": "stream",
          "name": "stdout",
          "text": [
            "\n",
            "Relevant context: #Photography student Thorsten Mjölnir captures the way students decorate their laptops. #Why sales of very basic mobile phones, without apps and internet connection, are increasing. #What do you do when your collection of millions of books keeps growing but your bookshelves don't? #The developers of a powerful mini aircraft hope it will be used by the armed forces. #How tech is helping young families and couples regain their busy social lives after Covid. #Watch as Lee Zii Jia of Malaysia records a speed of 372km/h on his backhand point against Lakshya Sen of India in the All England Badminton Championships. #The Royal Mint has found a way to turn old circuit boards from phones, computers and TVs into gold. #A van was reportedly hijacked and driven to the venue, and a controlled explosion has since been carried out. #The Ukrainian president reveals his location in Kyiv in a new video shared on social media. #The Royal Mint has found a way to turn old circuit boards from phones, computers and televisions into gold.\n",
            "Considering the relevant context, answer the question.\n",
            "Question: Can I buy a new Toshiba laptop?\n",
            "Answer: \n",
            "Yes, you can buy a new Toshiba laptop.\n"
          ]
        }
      ]
    }
  ]
}