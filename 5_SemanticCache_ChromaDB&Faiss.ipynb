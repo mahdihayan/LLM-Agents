{
  "metadata": {
    "kernelspec": {
      "display_name": "Python 3",
      "name": "python3"
    },
    "language_info": {
      "name": "python",
      "version": "3.10.12",
      "mimetype": "text/x-python",
      "codemirror_mode": {
        "name": "ipython",
        "version": 3
      },
      "pygments_lexer": "ipython3",
      "nbconvert_exporter": "python",
      "file_extension": ".py"
    },
    "kaggle": {
      "accelerator": "gpu",
      "dataSources": [
        {
          "sourceId": 6104553,
          "sourceType": "datasetVersion",
          "datasetId": 3496946
        }
      ],
      "dockerImageVersionId": 30527,
      "isInternetEnabled": true,
      "language": "python",
      "sourceType": "notebook",
      "isGpuEnabled": true
    },
    "colab": {
      "provenance": [],
      "machine_shape": "hm",
      "gpuType": "T4",
      "include_colab_link": true
    },
    "accelerator": "GPU"
  },
  "nbformat_minor": 0,
  "nbformat": 4,
  "cells": [
    {
      "cell_type": "markdown",
      "metadata": {
        "id": "view-in-github",
        "colab_type": "text"
      },
      "source": [
        "<a href=\"https://colab.research.google.com/github/mrhamedani/LLM-Agents/blob/main/5_SemanticCache_ChromaDB%26Faiss.ipynb\" target=\"_parent\"><img src=\"https://colab.research.google.com/assets/colab-badge.svg\" alt=\"Open In Colab\"/></a>"
      ]
    },
    {
      "cell_type": "markdown",
      "source": [
        "\n",
        "✅ Purpose of Semantic Cache:\n",
        "\n",
        "Identifying similar or identical user requests.\n",
        "If a similar request is found, the information is retrieved from the cache instead of fetching it again from the original source.\n",
        "\n",
        "✅ Why is the cache placed between the user and the vector database, not between the user and the model?\n",
        "\n",
        "If the cache is applied at the model’s response stage, the accuracy of the model’s answers may decrease.\n",
        "\n",
        "✅ Why is this cache necessary?\n",
        "\n",
        "One optimization method is using a semantic cache to check whether a request has been made before.\n",
        "\n",
        "✅ Two time-consuming stages in an RAG system:\n",
        "\n",
        "Retrieving information to construct an enriched prompt.\n",
        "Requesting a response from the language model.\n",
        "\n",
        "\n",
        "\n",
        "\n",
        "\n",
        "\n",
        "\n",
        "\n",
        "<img src=\"https://github.com/peremartra/Large-Language-Model-Notebooks-Course/blob/main/img/semantic_cache.jpg?raw=true\">\n",
        "\n"
      ],
      "metadata": {
        "id": "AVv_M1Dz9TDz"
      }
    },
    {
      "cell_type": "markdown",
      "source": [
        "# Import and load the libraries.\n",
        "To start we need to install the necesary Python packages.\n",
        "* **[sentence transformers](http:/www.sbert.net/)**. This library is necessary to transform the sentences into fixed-length vectors, also know as embeddings.\n",
        "* **[xformers](https://github.com/facebookresearch/xformers)**. it's a package that provides libraries an utilities to facilitate the work with transformers models. We need to install in order to avoid an error when we work with the model and embeddings.  \n",
        "* **[chromadb](https://www.trychroma.com/)**. This is our vector Database. ChromaDB is easy to use and open source, maybe the most used Vector Database used to store embeddings.\n",
        "* **[accelerate](https://github.com/huggingface/accelerate)** Necesary to run the Model in a GPU.  "
      ],
      "metadata": {
        "id": "uizxY8679TDz"
      }
    },
    {
      "cell_type": "code",
      "source": [
        "!pip install -q transformers==4.38.1\n",
        "!pip install -q accelerate==0.27.2\n",
        "!pip install -q sentence-transformers==2.5.1\n",
        "!pip install -q xformers==0.0.24\n",
        "!pip install -q chromadb==0.4.24\n",
        "!pip install -q datasets==2.17.1"
      ],
      "metadata": {
        "execution": {
          "iopub.status.busy": "2024-02-29T17:30:10.787382Z",
          "iopub.execute_input": "2024-02-29T17:30:10.787688Z",
          "iopub.status.idle": "2024-02-29T17:34:12.804579Z",
          "shell.execute_reply.started": "2024-02-29T17:30:10.787657Z",
          "shell.execute_reply": "2024-02-29T17:34:12.80338Z"
        },
        "trusted": true,
        "id": "r1nUzd1u9TD0"
      },
      "execution_count": null,
      "outputs": []
    },
    {
      "cell_type": "code",
      "source": [
        "import numpy as np\n",
        "import pandas as pd"
      ],
      "metadata": {
        "execution": {
          "iopub.status.busy": "2024-02-29T17:35:23.197205Z",
          "iopub.execute_input": "2024-02-29T17:35:23.197598Z",
          "iopub.status.idle": "2024-02-29T17:35:23.202259Z",
          "shell.execute_reply.started": "2024-02-29T17:35:23.197556Z",
          "shell.execute_reply": "2024-02-29T17:35:23.201404Z"
        },
        "trusted": true,
        "id": "5jUwC_eE9TD0"
      },
      "execution_count": 3,
      "outputs": []
    },
    {
      "cell_type": "code",
      "source": [
        "#Login to Hugging Face. It is mandatory to use the Gemma Model,\n",
        "#and recommended to acces public models and Datasets.\n",
        "from getpass import getpass\n",
        "if 'hf_key' not in locals():\n",
        "  hf_key = getpass(\"Your Hugging Face API Key: \")\n",
        "!huggingface-cli login --token $hf_key"
      ],
      "metadata": {
        "id": "xZsN8yzUvfjN"
      },
      "execution_count": null,
      "outputs": []
    },
    {
      "cell_type": "code",
      "source": [
        "from datasets import load_dataset\n",
        "data = load_dataset(\"keivalya/MedQuad-MedicalQnADataset\", split='train')     # download the dataset from Hugging Face related to MedicalQnA"
      ],
      "metadata": {
        "id": "9IVxu-uxtCTw"
      },
      "execution_count": null,
      "outputs": []
    },
    {
      "cell_type": "code",
      "source": [
        "data = pd.DataFrame(data)\n",
        "data"
      ],
      "metadata": {
        "id": "WbLf8c7_yHwy",
        "outputId": "8b14ef19-3e72-4b28-f090-a57faa84122f",
        "colab": {
          "base_uri": "https://localhost:8080/",
          "height": 423
        }
      },
      "execution_count": 42,
      "outputs": [
        {
          "output_type": "execute_result",
          "data": {
            "text/plain": [
              "                 qtype                                           Question  \\\n",
              "0       susceptibility  Who is at risk for Lymphocytic Choriomeningiti...   \n",
              "1             symptoms  What are the symptoms of Lymphocytic Choriomen...   \n",
              "2       susceptibility  Who is at risk for Lymphocytic Choriomeningiti...   \n",
              "3      exams and tests  How to diagnose Lymphocytic Choriomeningitis (...   \n",
              "4            treatment  What are the treatments for Lymphocytic Chorio...   \n",
              "...                ...                                                ...   \n",
              "16402         symptoms  What are the symptoms of Familial visceral myo...   \n",
              "16403      information              What is (are) Pseudopelade of Brocq ?   \n",
              "16404         symptoms   What are the symptoms of Pseudopelade of Brocq ?   \n",
              "16405        treatment  What are the treatments for Pseudopelade of Br...   \n",
              "16406      information  What is (are) Desmoplastic small round cell tu...   \n",
              "\n",
              "                                                  Answer     id  \n",
              "0      LCMV infections can occur after exposure to fr...      0  \n",
              "1      LCMV is most commonly recognized as causing ne...      1  \n",
              "2      Individuals of all ages who come into contact ...      2  \n",
              "3      During the first phase of the disease, the mos...      3  \n",
              "4      Aseptic meningitis, encephalitis, or meningoen...      4  \n",
              "...                                                  ...    ...  \n",
              "16402  What are the signs and symptoms of Familial vi...  16402  \n",
              "16403  Pseudopelade of Brocq (PBB) is a slowly progre...  16403  \n",
              "16404  What are the signs and symptoms of Pseudopelad...  16404  \n",
              "16405  Is there treatment or a cure for pseudopelade ...  16405  \n",
              "16406  Desmoplastic small round cell tumors (DSRCT), ...  16406  \n",
              "\n",
              "[16407 rows x 4 columns]"
            ],
            "text/html": [
              "\n",
              "  <div id=\"df-4090d973-d8de-4a56-b073-c5f09e4e4c1b\" class=\"colab-df-container\">\n",
              "    <div>\n",
              "<style scoped>\n",
              "    .dataframe tbody tr th:only-of-type {\n",
              "        vertical-align: middle;\n",
              "    }\n",
              "\n",
              "    .dataframe tbody tr th {\n",
              "        vertical-align: top;\n",
              "    }\n",
              "\n",
              "    .dataframe thead th {\n",
              "        text-align: right;\n",
              "    }\n",
              "</style>\n",
              "<table border=\"1\" class=\"dataframe\">\n",
              "  <thead>\n",
              "    <tr style=\"text-align: right;\">\n",
              "      <th></th>\n",
              "      <th>qtype</th>\n",
              "      <th>Question</th>\n",
              "      <th>Answer</th>\n",
              "      <th>id</th>\n",
              "    </tr>\n",
              "  </thead>\n",
              "  <tbody>\n",
              "    <tr>\n",
              "      <th>0</th>\n",
              "      <td>susceptibility</td>\n",
              "      <td>Who is at risk for Lymphocytic Choriomeningiti...</td>\n",
              "      <td>LCMV infections can occur after exposure to fr...</td>\n",
              "      <td>0</td>\n",
              "    </tr>\n",
              "    <tr>\n",
              "      <th>1</th>\n",
              "      <td>symptoms</td>\n",
              "      <td>What are the symptoms of Lymphocytic Choriomen...</td>\n",
              "      <td>LCMV is most commonly recognized as causing ne...</td>\n",
              "      <td>1</td>\n",
              "    </tr>\n",
              "    <tr>\n",
              "      <th>2</th>\n",
              "      <td>susceptibility</td>\n",
              "      <td>Who is at risk for Lymphocytic Choriomeningiti...</td>\n",
              "      <td>Individuals of all ages who come into contact ...</td>\n",
              "      <td>2</td>\n",
              "    </tr>\n",
              "    <tr>\n",
              "      <th>3</th>\n",
              "      <td>exams and tests</td>\n",
              "      <td>How to diagnose Lymphocytic Choriomeningitis (...</td>\n",
              "      <td>During the first phase of the disease, the mos...</td>\n",
              "      <td>3</td>\n",
              "    </tr>\n",
              "    <tr>\n",
              "      <th>4</th>\n",
              "      <td>treatment</td>\n",
              "      <td>What are the treatments for Lymphocytic Chorio...</td>\n",
              "      <td>Aseptic meningitis, encephalitis, or meningoen...</td>\n",
              "      <td>4</td>\n",
              "    </tr>\n",
              "    <tr>\n",
              "      <th>...</th>\n",
              "      <td>...</td>\n",
              "      <td>...</td>\n",
              "      <td>...</td>\n",
              "      <td>...</td>\n",
              "    </tr>\n",
              "    <tr>\n",
              "      <th>16402</th>\n",
              "      <td>symptoms</td>\n",
              "      <td>What are the symptoms of Familial visceral myo...</td>\n",
              "      <td>What are the signs and symptoms of Familial vi...</td>\n",
              "      <td>16402</td>\n",
              "    </tr>\n",
              "    <tr>\n",
              "      <th>16403</th>\n",
              "      <td>information</td>\n",
              "      <td>What is (are) Pseudopelade of Brocq ?</td>\n",
              "      <td>Pseudopelade of Brocq (PBB) is a slowly progre...</td>\n",
              "      <td>16403</td>\n",
              "    </tr>\n",
              "    <tr>\n",
              "      <th>16404</th>\n",
              "      <td>symptoms</td>\n",
              "      <td>What are the symptoms of Pseudopelade of Brocq ?</td>\n",
              "      <td>What are the signs and symptoms of Pseudopelad...</td>\n",
              "      <td>16404</td>\n",
              "    </tr>\n",
              "    <tr>\n",
              "      <th>16405</th>\n",
              "      <td>treatment</td>\n",
              "      <td>What are the treatments for Pseudopelade of Br...</td>\n",
              "      <td>Is there treatment or a cure for pseudopelade ...</td>\n",
              "      <td>16405</td>\n",
              "    </tr>\n",
              "    <tr>\n",
              "      <th>16406</th>\n",
              "      <td>information</td>\n",
              "      <td>What is (are) Desmoplastic small round cell tu...</td>\n",
              "      <td>Desmoplastic small round cell tumors (DSRCT), ...</td>\n",
              "      <td>16406</td>\n",
              "    </tr>\n",
              "  </tbody>\n",
              "</table>\n",
              "<p>16407 rows × 4 columns</p>\n",
              "</div>\n",
              "    <div class=\"colab-df-buttons\">\n",
              "\n",
              "  <div class=\"colab-df-container\">\n",
              "    <button class=\"colab-df-convert\" onclick=\"convertToInteractive('df-4090d973-d8de-4a56-b073-c5f09e4e4c1b')\"\n",
              "            title=\"Convert this dataframe to an interactive table.\"\n",
              "            style=\"display:none;\">\n",
              "\n",
              "  <svg xmlns=\"http://www.w3.org/2000/svg\" height=\"24px\" viewBox=\"0 -960 960 960\">\n",
              "    <path d=\"M120-120v-720h720v720H120Zm60-500h600v-160H180v160Zm220 220h160v-160H400v160Zm0 220h160v-160H400v160ZM180-400h160v-160H180v160Zm440 0h160v-160H620v160ZM180-180h160v-160H180v160Zm440 0h160v-160H620v160Z\"/>\n",
              "  </svg>\n",
              "    </button>\n",
              "\n",
              "  <style>\n",
              "    .colab-df-container {\n",
              "      display:flex;\n",
              "      gap: 12px;\n",
              "    }\n",
              "\n",
              "    .colab-df-convert {\n",
              "      background-color: #E8F0FE;\n",
              "      border: none;\n",
              "      border-radius: 50%;\n",
              "      cursor: pointer;\n",
              "      display: none;\n",
              "      fill: #1967D2;\n",
              "      height: 32px;\n",
              "      padding: 0 0 0 0;\n",
              "      width: 32px;\n",
              "    }\n",
              "\n",
              "    .colab-df-convert:hover {\n",
              "      background-color: #E2EBFA;\n",
              "      box-shadow: 0px 1px 2px rgba(60, 64, 67, 0.3), 0px 1px 3px 1px rgba(60, 64, 67, 0.15);\n",
              "      fill: #174EA6;\n",
              "    }\n",
              "\n",
              "    .colab-df-buttons div {\n",
              "      margin-bottom: 4px;\n",
              "    }\n",
              "\n",
              "    [theme=dark] .colab-df-convert {\n",
              "      background-color: #3B4455;\n",
              "      fill: #D2E3FC;\n",
              "    }\n",
              "\n",
              "    [theme=dark] .colab-df-convert:hover {\n",
              "      background-color: #434B5C;\n",
              "      box-shadow: 0px 1px 3px 1px rgba(0, 0, 0, 0.15);\n",
              "      filter: drop-shadow(0px 1px 2px rgba(0, 0, 0, 0.3));\n",
              "      fill: #FFFFFF;\n",
              "    }\n",
              "  </style>\n",
              "\n",
              "    <script>\n",
              "      const buttonEl =\n",
              "        document.querySelector('#df-4090d973-d8de-4a56-b073-c5f09e4e4c1b button.colab-df-convert');\n",
              "      buttonEl.style.display =\n",
              "        google.colab.kernel.accessAllowed ? 'block' : 'none';\n",
              "\n",
              "      async function convertToInteractive(key) {\n",
              "        const element = document.querySelector('#df-4090d973-d8de-4a56-b073-c5f09e4e4c1b');\n",
              "        const dataTable =\n",
              "          await google.colab.kernel.invokeFunction('convertToInteractive',\n",
              "                                                    [key], {});\n",
              "        if (!dataTable) return;\n",
              "\n",
              "        const docLinkHtml = 'Like what you see? Visit the ' +\n",
              "          '<a target=\"_blank\" href=https://colab.research.google.com/notebooks/data_table.ipynb>data table notebook</a>'\n",
              "          + ' to learn more about interactive tables.';\n",
              "        element.innerHTML = '';\n",
              "        dataTable['output_type'] = 'display_data';\n",
              "        await google.colab.output.renderOutput(dataTable, element);\n",
              "        const docLink = document.createElement('div');\n",
              "        docLink.innerHTML = docLinkHtml;\n",
              "        element.appendChild(docLink);\n",
              "      }\n",
              "    </script>\n",
              "  </div>\n",
              "\n",
              "\n",
              "<div id=\"df-1d5dc837-5421-4e14-a075-a22d893fb570\">\n",
              "  <button class=\"colab-df-quickchart\" onclick=\"quickchart('df-1d5dc837-5421-4e14-a075-a22d893fb570')\"\n",
              "            title=\"Suggest charts\"\n",
              "            style=\"display:none;\">\n",
              "\n",
              "<svg xmlns=\"http://www.w3.org/2000/svg\" height=\"24px\"viewBox=\"0 0 24 24\"\n",
              "     width=\"24px\">\n",
              "    <g>\n",
              "        <path d=\"M19 3H5c-1.1 0-2 .9-2 2v14c0 1.1.9 2 2 2h14c1.1 0 2-.9 2-2V5c0-1.1-.9-2-2-2zM9 17H7v-7h2v7zm4 0h-2V7h2v10zm4 0h-2v-4h2v4z\"/>\n",
              "    </g>\n",
              "</svg>\n",
              "  </button>\n",
              "\n",
              "<style>\n",
              "  .colab-df-quickchart {\n",
              "      --bg-color: #E8F0FE;\n",
              "      --fill-color: #1967D2;\n",
              "      --hover-bg-color: #E2EBFA;\n",
              "      --hover-fill-color: #174EA6;\n",
              "      --disabled-fill-color: #AAA;\n",
              "      --disabled-bg-color: #DDD;\n",
              "  }\n",
              "\n",
              "  [theme=dark] .colab-df-quickchart {\n",
              "      --bg-color: #3B4455;\n",
              "      --fill-color: #D2E3FC;\n",
              "      --hover-bg-color: #434B5C;\n",
              "      --hover-fill-color: #FFFFFF;\n",
              "      --disabled-bg-color: #3B4455;\n",
              "      --disabled-fill-color: #666;\n",
              "  }\n",
              "\n",
              "  .colab-df-quickchart {\n",
              "    background-color: var(--bg-color);\n",
              "    border: none;\n",
              "    border-radius: 50%;\n",
              "    cursor: pointer;\n",
              "    display: none;\n",
              "    fill: var(--fill-color);\n",
              "    height: 32px;\n",
              "    padding: 0;\n",
              "    width: 32px;\n",
              "  }\n",
              "\n",
              "  .colab-df-quickchart:hover {\n",
              "    background-color: var(--hover-bg-color);\n",
              "    box-shadow: 0 1px 2px rgba(60, 64, 67, 0.3), 0 1px 3px 1px rgba(60, 64, 67, 0.15);\n",
              "    fill: var(--button-hover-fill-color);\n",
              "  }\n",
              "\n",
              "  .colab-df-quickchart-complete:disabled,\n",
              "  .colab-df-quickchart-complete:disabled:hover {\n",
              "    background-color: var(--disabled-bg-color);\n",
              "    fill: var(--disabled-fill-color);\n",
              "    box-shadow: none;\n",
              "  }\n",
              "\n",
              "  .colab-df-spinner {\n",
              "    border: 2px solid var(--fill-color);\n",
              "    border-color: transparent;\n",
              "    border-bottom-color: var(--fill-color);\n",
              "    animation:\n",
              "      spin 1s steps(1) infinite;\n",
              "  }\n",
              "\n",
              "  @keyframes spin {\n",
              "    0% {\n",
              "      border-color: transparent;\n",
              "      border-bottom-color: var(--fill-color);\n",
              "      border-left-color: var(--fill-color);\n",
              "    }\n",
              "    20% {\n",
              "      border-color: transparent;\n",
              "      border-left-color: var(--fill-color);\n",
              "      border-top-color: var(--fill-color);\n",
              "    }\n",
              "    30% {\n",
              "      border-color: transparent;\n",
              "      border-left-color: var(--fill-color);\n",
              "      border-top-color: var(--fill-color);\n",
              "      border-right-color: var(--fill-color);\n",
              "    }\n",
              "    40% {\n",
              "      border-color: transparent;\n",
              "      border-right-color: var(--fill-color);\n",
              "      border-top-color: var(--fill-color);\n",
              "    }\n",
              "    60% {\n",
              "      border-color: transparent;\n",
              "      border-right-color: var(--fill-color);\n",
              "    }\n",
              "    80% {\n",
              "      border-color: transparent;\n",
              "      border-right-color: var(--fill-color);\n",
              "      border-bottom-color: var(--fill-color);\n",
              "    }\n",
              "    90% {\n",
              "      border-color: transparent;\n",
              "      border-bottom-color: var(--fill-color);\n",
              "    }\n",
              "  }\n",
              "</style>\n",
              "\n",
              "  <script>\n",
              "    async function quickchart(key) {\n",
              "      const quickchartButtonEl =\n",
              "        document.querySelector('#' + key + ' button');\n",
              "      quickchartButtonEl.disabled = true;  // To prevent multiple clicks.\n",
              "      quickchartButtonEl.classList.add('colab-df-spinner');\n",
              "      try {\n",
              "        const charts = await google.colab.kernel.invokeFunction(\n",
              "            'suggestCharts', [key], {});\n",
              "      } catch (error) {\n",
              "        console.error('Error during call to suggestCharts:', error);\n",
              "      }\n",
              "      quickchartButtonEl.classList.remove('colab-df-spinner');\n",
              "      quickchartButtonEl.classList.add('colab-df-quickchart-complete');\n",
              "    }\n",
              "    (() => {\n",
              "      let quickchartButtonEl =\n",
              "        document.querySelector('#df-1d5dc837-5421-4e14-a075-a22d893fb570 button');\n",
              "      quickchartButtonEl.style.display =\n",
              "        google.colab.kernel.accessAllowed ? 'block' : 'none';\n",
              "    })();\n",
              "  </script>\n",
              "</div>\n",
              "    </div>\n",
              "  </div>\n"
            ],
            "application/vnd.google.colaboratory.intrinsic+json": {
              "type": "dataframe",
              "variable_name": "data",
              "summary": "{\n  \"name\": \"data\",\n  \"rows\": 16407,\n  \"fields\": [\n    {\n      \"column\": \"qtype\",\n      \"properties\": {\n        \"dtype\": \"category\",\n        \"num_unique_values\": 16,\n        \"samples\": [\n          \"susceptibility\",\n          \"symptoms\",\n          \"information\"\n        ],\n        \"semantic_type\": \"\",\n        \"description\": \"\"\n      }\n    },\n    {\n      \"column\": \"Question\",\n      \"properties\": {\n        \"dtype\": \"string\",\n        \"num_unique_values\": 14979,\n        \"samples\": [\n          \"What are the symptoms of Danon disease ?\",\n          \"What is (are) Dowling-Degos disease ?\",\n          \"What are the genetic changes related to Pearson marrow-pancreas syndrome ?\"\n        ],\n        \"semantic_type\": \"\",\n        \"description\": \"\"\n      }\n    },\n    {\n      \"column\": \"Answer\",\n      \"properties\": {\n        \"dtype\": \"string\",\n        \"num_unique_values\": 15817,\n        \"samples\": [\n          \"These resources address the diagnosis or management of glycogen storage disease type III:  - Gene Review: Gene Review: Glycogen Storage Disease Type III  - Genetic Testing Registry: Glycogen storage disease type III   These resources from MedlinePlus offer information about the diagnosis and management of various health conditions:  - Diagnostic Tests  - Drug Therapy  - Surgery and Rehabilitation  - Genetic Counseling   - Palliative Care\",\n          \"Diagnostic Challenges\\n  \\nFor doctors, diagnosing chronic fatigue syndrome (CFS) can be complicated by a number of factors:\\n  \\n   - There's no lab test or biomarker for CFS.\\n   - Fatigue and other symptoms of CFS are common to many illnesses.\\n   - For some CFS patients, it may not be obvious to doctors that they are ill.\\n   - The illness has a pattern of remission and relapse.\\n   - Symptoms vary from person to person in type, number, and severity.\\n  \\n  \\nThese factors have contributed to a low diagnosis rate. Of the one to four million Americans who have CFS, less than 20% have been diagnosed.\\n  Exams and Screening Tests for CFS\\n  \\nBecause there is no blood test, brain scan, or other lab test to diagnose CFS, the doctor should first rule out other possible causes.\\n  \\nIf a patient has had 6 or more consecutive months of severe fatigue that is reported to be unrelieved by sufficient bed rest and that is accompanied by nonspecific symptoms, including flu-like symptoms, generalized pain, and memory problems, the doctor should consider the possibility that the patient may have CFS. Further exams and tests are needed before a diagnosis can be made:\\n  \\n   - A detailed medical history will be needed and should include a review of medications that could be causing the fatigue and symptoms\\n   - A thorough physical and mental status examination will also be needed\\n   - A battery of laboratory screening tests will be needed to help identify or rule out other possible causes of the symptoms that could be treated\\n   - The doctor may also order additional tests to follow up on results of the initial screening tests\\n  \\n  \\nA CFS diagnosis requires that the patient has been fatigued for 6 months or more and has 4 of the 8 symptoms for CFS for 6 months or more. If, however, the patient has been fatigued for 6 months or more but does not have four of the eight symptoms, the diagnosis may be idiopathic fatigue.\\n  \\nThe complete process for diagnosing CFS can be found here.\\n  \\nAdditional information for healthcare professionals on use of tests can be found here.\",\n          \"Eating, diet, and nutrition have not been shown to play a role in causing or preventing simple kidney cysts.\"\n        ],\n        \"semantic_type\": \"\",\n        \"description\": \"\"\n      }\n    },\n    {\n      \"column\": \"id\",\n      \"properties\": {\n        \"dtype\": \"number\",\n        \"std\": 4736,\n        \"min\": 0,\n        \"max\": 16406,\n        \"num_unique_values\": 16407,\n        \"samples\": [\n          3634,\n          15104,\n          4395\n        ],\n        \"semantic_type\": \"\",\n        \"description\": \"\"\n      }\n    }\n  ]\n}"
            }
          },
          "metadata": {},
          "execution_count": 42
        }
      ]
    },
    {
      "cell_type": "code",
      "source": [
        "MAX_ROWS = 15000\n",
        "DOCUMENT=\"Answer\"\n",
        "TOPIC=\"qtype\""
      ],
      "metadata": {
        "execution": {
          "iopub.status.busy": "2024-02-29T17:35:25.527688Z",
          "iopub.execute_input": "2024-02-29T17:35:25.528374Z",
          "iopub.status.idle": "2024-02-29T17:35:25.709895Z",
          "shell.execute_reply.started": "2024-02-29T17:35:25.528341Z",
          "shell.execute_reply": "2024-02-29T17:35:25.709127Z"
        },
        "trusted": true,
        "id": "DZf0zCI29TD1"
      },
      "execution_count": 13,
      "outputs": []
    },
    {
      "cell_type": "markdown",
      "source": [
        "ChromaDB requires that the data has a unique identifier. We can make it with this statement, which will create a new column called **Id**.\n"
      ],
      "metadata": {
        "id": "hmor-i1j9TD1"
      }
    },
    {
      "cell_type": "code",
      "source": [
        "subset_data = data.head(MAX_ROWS) #Because it is just a sample we select a small portion of News."
      ],
      "metadata": {
        "execution": {
          "iopub.status.busy": "2024-02-29T17:35:29.183979Z",
          "iopub.execute_input": "2024-02-29T17:35:29.184342Z",
          "iopub.status.idle": "2024-02-29T17:35:29.189229Z",
          "shell.execute_reply.started": "2024-02-29T17:35:29.184313Z",
          "shell.execute_reply": "2024-02-29T17:35:29.1881Z"
        },
        "trusted": true,
        "id": "Mkoj9IrZ9TD1"
      },
      "execution_count": 23,
      "outputs": []
    },
    {
      "cell_type": "markdown",
      "source": [
        "\n",
        "I'm going to use ChromaDB, the most popular OpenSource vector Database.\n",
        "\n",
        "First we need to import ChromaDB, and after that import the **Settings** class from **chromadb.config** module. This class allows us to change the setting for the ChromaDB system, and customize its behavior."
      ],
      "metadata": {
        "id": "rZHg_Qh69TD1"
      }
    },
    {
      "cell_type": "code",
      "source": [
        "import chromadb\n",
        "from chromadb.config import Settings\n",
        "import sentence_transformers\n",
        "from sentence_transformers import SentenceTransformer"
      ],
      "metadata": {
        "execution": {
          "iopub.status.busy": "2024-02-29T17:35:31.849199Z",
          "iopub.execute_input": "2024-02-29T17:35:31.849551Z",
          "iopub.status.idle": "2024-02-29T17:35:32.31736Z",
          "shell.execute_reply.started": "2024-02-29T17:35:31.849525Z",
          "shell.execute_reply": "2024-02-29T17:35:32.316617Z"
        },
        "trusted": true,
        "id": "npJhuZQw9TD1"
      },
      "execution_count": 19,
      "outputs": []
    },
    {
      "cell_type": "code",
      "source": [
        "chroma_client = chromadb.PersistentClient(path=\"/path/to/persist/directory\")  #directory to persist chromaDB"
      ],
      "metadata": {
        "execution": {
          "iopub.status.busy": "2024-02-29T17:35:34.410268Z",
          "iopub.execute_input": "2024-02-29T17:35:34.410646Z",
          "iopub.status.idle": "2024-02-29T17:35:34.872817Z",
          "shell.execute_reply.started": "2024-02-29T17:35:34.410614Z",
          "shell.execute_reply": "2024-02-29T17:35:34.872039Z"
        },
        "trusted": true,
        "id": "9yK6y0hm9TD1"
      },
      "execution_count": 16,
      "outputs": []
    },
    {
      "cell_type": "code",
      "source": [
        "collection_name = \"news_collection\"\n",
        "if len(chroma_client.list_collections()) > 0 and collection_name in [chroma_client.list_collections()[0].name]:\n",
        "        chroma_client.delete_collection(name=collection_name)\n",
        "\n",
        "collection = chroma_client.create_collection(name=collection_name)\n"
      ],
      "metadata": {
        "execution": {
          "iopub.status.busy": "2024-02-29T17:35:36.1156Z",
          "iopub.execute_input": "2024-02-29T17:35:36.116012Z",
          "iopub.status.idle": "2024-02-29T17:35:36.16922Z",
          "shell.execute_reply.started": "2024-02-29T17:35:36.115977Z",
          "shell.execute_reply": "2024-02-29T17:35:36.168504Z"
        },
        "trusted": true,
        "id": "kRCsunE19TD1"
      },
      "execution_count": 20,
      "outputs": []
    },
    {
      "cell_type": "markdown",
      "source": [
        "The data must be added to the collection with the add function. At least three parts must be specified:\n",
        "\n",
        "**Documents** → full text of each news item (stored in a specific column of the dataset)\n",
        "\n",
        "**metadatas** → Meta information, such as the title or category of the news\n",
        "\n",
        "**ids** → a unique identifier for each data row\n",
        "\n",
        "**embedding**:To send and use information in Chroma DB, they must be captured as images"
      ],
      "metadata": {
        "id": "94kcpfXdtEeV"
      }
    },
    {
      "cell_type": "code",
      "source": [
        "embedding_model = SentenceTransformer(\"sentence-transformers/all-MiniLM-L6-v2\")     # choose a sentence transformer model\n",
        "embeddings = embedding_model.encode(subset_data[DOCUMENT].tolist(), convert_to_numpy=True)   # create embeddings\n",
        "\n",
        "# add embeddings to collection chromaDB\n",
        "collection.add(documents=subset_data[DOCUMENT].tolist(),\n",
        "    metadatas=[{TOPIC: topic} for topic in subset_data[TOPIC].tolist()],\n",
        "    ids=[f\"id{x}\" for x in range(MAX_ROWS)],\n",
        "    embeddings=embeddings.tolist(),)\n",
        ""
      ],
      "metadata": {
        "execution": {
          "iopub.status.busy": "2024-02-29T17:35:38.051179Z",
          "iopub.execute_input": "2024-02-29T17:35:38.051601Z",
          "iopub.status.idle": "2024-02-29T17:36:38.612836Z",
          "shell.execute_reply.started": "2024-02-29T17:35:38.051569Z",
          "shell.execute_reply": "2024-02-29T17:36:38.611814Z"
        },
        "trusted": true,
        "id": "4dDoqJE79TD2"
      },
      "execution_count": 24,
      "outputs": []
    },
    {
      "cell_type": "markdown",
      "source": [
        "Once we have the information inside the Database we can query It, and ask for data that matches our needs. The search is done inside the content of the document, and it dosn't look for the exact word, or phrase. The results will be based on the similarity between the search terms and the content of documents.\n",
        "\n",
        "The metadata is not used in the search, but they can be utilized for filtering or refining the results after the initial search.\n",
        "\n",
        "Let's define a function to query the ChromaDB Database."
      ],
      "metadata": {
        "id": "du6-iuUisRkM"
      }
    },
    {
      "cell_type": "code",
      "source": [
        "def query_database(query_text, n_results=10):\n",
        "    results = collection.query(query_texts=query_text, n_results=n_results )\n",
        "    return results"
      ],
      "metadata": {
        "execution": {
          "iopub.status.busy": "2024-02-29T17:36:38.615302Z",
          "iopub.execute_input": "2024-02-29T17:36:38.616047Z",
          "iopub.status.idle": "2024-02-29T17:36:38.620516Z",
          "shell.execute_reply.started": "2024-02-29T17:36:38.616008Z",
          "shell.execute_reply": "2024-02-29T17:36:38.619561Z"
        },
        "trusted": true,
        "id": "UjdhZ4MJ9TD2"
      },
      "execution_count": 25,
      "outputs": []
    },
    {
      "cell_type": "markdown",
      "source": [
        "## Creating the semantic cache system\n",
        "To implement the cache system, we will use Faiss, a library that allows storing embeddings in memory. It's quite similar to what Chroma does, but without its persistence.\n",
        "\n",
        "For this purpose, we will create a class called semantic_cache that will work with its own encoder and provide the necessary functions for the user to perform queries.\n",
        "\n",
        "In this class, we first query Faiss (the cache), and if the returned results are above the specified **threshold**, it will return the result from the cache. Otherwise, it will fetch the result from the Chroma database.\n",
        "\n",
        "The cache is stored in .json file."
      ],
      "metadata": {
        "id": "CL0Crl3x9TD2"
      }
    },
    {
      "cell_type": "code",
      "source": [
        "!pip install -q faiss-cpu==1.8.0"
      ],
      "metadata": {
        "execution": {
          "iopub.status.busy": "2024-02-29T17:36:38.621655Z",
          "iopub.execute_input": "2024-02-29T17:36:38.621968Z",
          "iopub.status.idle": "2024-02-29T17:36:51.313356Z",
          "shell.execute_reply.started": "2024-02-29T17:36:38.621936Z",
          "shell.execute_reply": "2024-02-29T17:36:51.312232Z"
        },
        "trusted": true,
        "id": "6OzUbRUe9TD2"
      },
      "execution_count": null,
      "outputs": []
    },
    {
      "cell_type": "code",
      "source": [
        "import faiss\n",
        "import time\n",
        "import json"
      ],
      "metadata": {
        "id": "0yGE4cTEp3QJ"
      },
      "execution_count": 27,
      "outputs": []
    },
    {
      "cell_type": "markdown",
      "source": [
        "This function initializes the semantic cache.\n",
        "\n",
        "It employs the FlatLS index, which might not be the fastest but is ideal for small datasets. Depending on the characteristics of the data intended for the cache and the expected dataset size, another index such as HNSW or IVF could be utilized."
      ],
      "metadata": {
        "id": "yi_riXHhcLy0"
      }
    },
    {
      "cell_type": "code",
      "source": [
        "def init_cache():\n",
        "  index = faiss.IndexFlatL2(768)\n",
        "  if index.is_trained:\n",
        "            print('Index trained')\n",
        "\n",
        "  # Initialize Sentence Transformer model\n",
        "  encoder = SentenceTransformer('all-mpnet-base-v2')\n",
        "\n",
        "  return index, encoder"
      ],
      "metadata": {
        "id": "9poNBxbPl7xE"
      },
      "execution_count": 28,
      "outputs": []
    },
    {
      "cell_type": "markdown",
      "source": [
        "In the `retrieve_cache` function, the .json file is retrieved from disk in case there is a need to reuse the cache across sessions."
      ],
      "metadata": {
        "id": "_uZzX60odo1U"
      }
    },
    {
      "cell_type": "code",
      "source": [
        "def retrieve_cache(json_file):\n",
        "      try:\n",
        "          with open(json_file, 'r') as file:\n",
        "              cache = json.load(file)\n",
        "      except FileNotFoundError:\n",
        "          cache = {'questions': [], 'embeddings': [], 'answers': [], 'response_text': []}\n",
        "\n",
        "      return cache"
      ],
      "metadata": {
        "id": "FDJJ86TSp5CO"
      },
      "execution_count": 29,
      "outputs": []
    },
    {
      "cell_type": "markdown",
      "source": [
        "The `store_cache` function saves the file containing the cache data to disk."
      ],
      "metadata": {
        "id": "3uO-12UIdtSD"
      }
    },
    {
      "cell_type": "code",
      "source": [
        "def store_cache(json_file, cache):\n",
        "  with open(json_file, 'w') as file:\n",
        "        json.dump(cache, file)"
      ],
      "metadata": {
        "id": "jx1CiKOcwKGn"
      },
      "execution_count": 30,
      "outputs": []
    },
    {
      "cell_type": "markdown",
      "source": [
        "These functions will be used within the `SemanticCache` class, which includes the search function and its initialization function.\n",
        "\n",
        "Even though the `ask` function has a substantial amount of code, its purpose is quite straightforward. It looks in the cache for the closest question to the one just made by the user.\n",
        "\n",
        "Afterward, checks if it is within the specified threshold. If positive, it directly returns the response from the cache; otherwise, it calls the `query_database` function to retrieve the data from ChromaDB.\n",
        "\n",
        "I've used Euclidean distance instead of Cosine, which is widely employed in vector comparisons. This choice is based on the fact that Euclidean distance is the default metric used by Faiss. Although Cosine distance can also be calculated, doing so adds complexity that may not significantly contribute to the final result.\n"
      ],
      "metadata": {
        "id": "t9AdmnhQd2E8"
      }
    },
    {
      "cell_type": "code",
      "source": [
        "class semantic_cache:\n",
        "  def __init__(self, json_file=\"cache_file.json\", thresold=0.35):\n",
        "      # Initialize Faiss index with Euclidean distance\n",
        "      self.index, self.encoder = init_cache()\n",
        "\n",
        "      # Set Euclidean distance threshold\n",
        "      # a distance of 0 means identicals sentences\n",
        "      # We only return from cache sentences under this thresold\n",
        "      self.euclidean_threshold = thresold\n",
        "\n",
        "      self.json_file = json_file\n",
        "      self.cache = retrieve_cache(self.json_file)\n",
        "\n",
        "  def ask(self, question: str) -> str:\n",
        "      # Method to retrieve an answer from the cache or generate a new one\n",
        "      start_time = time.time()\n",
        "      try:\n",
        "          #First we obtain the embeddings corresponding to the user question\n",
        "          embedding = self.encoder.encode([question])\n",
        "\n",
        "          # Search for the nearest neighbor in the index\n",
        "          self.index.nprobe = 8\n",
        "          D, I = self.index.search(embedding, 1)\n",
        "\n",
        "          if D[0] >= 0:\n",
        "              if I[0][0] >= 0 and D[0][0] <= self.euclidean_threshold:\n",
        "                  row_id = int(I[0][0])\n",
        "\n",
        "                  print('Answer recovered from Cache. ')\n",
        "                  print(f'{D[0][0]:.3f} smaller than {self.euclidean_threshold}')\n",
        "                  print(f'Found cache in row: {row_id} with score {D[0][0]:.3f}')\n",
        "                  print(f'response_text: ' + self.cache['response_text'][row_id])\n",
        "\n",
        "                  end_time = time.time()\n",
        "                  elapsed_time = end_time - start_time\n",
        "                  print(f\"Time taken: {elapsed_time:.3f} seconds\")\n",
        "                  return self.cache['response_text'][row_id]\n",
        "\n",
        "          # Handle the case when there are not enough results\n",
        "          # or Euclidean distance is not met, asking to chromaDB.\n",
        "          answer  = query_database([question], 1)\n",
        "          response_text = answer['documents'][0][0]\n",
        "\n",
        "          self.cache['questions'].append(question)\n",
        "          self.cache['embeddings'].append(embedding[0].tolist())\n",
        "          self.cache['answers'].append(answer)\n",
        "          self.cache['response_text'].append(response_text)\n",
        "\n",
        "          print('Answer recovered from ChromaDB. ')\n",
        "          print(f'response_text: {response_text}')\n",
        "\n",
        "          self.index.add(embedding)\n",
        "          store_cache(self.json_file, self.cache)\n",
        "          end_time = time.time()\n",
        "          elapsed_time = end_time - start_time\n",
        "          print(f\"Time taken: {elapsed_time:.3f} seconds\")\n",
        "\n",
        "          return response_text\n",
        "      except Exception as e:\n",
        "          raise RuntimeError(f\"Error during 'ask' method: {e}\")"
      ],
      "metadata": {
        "execution": {
          "iopub.status.busy": "2024-02-29T17:36:51.316449Z",
          "iopub.execute_input": "2024-02-29T17:36:51.31678Z",
          "iopub.status.idle": "2024-02-29T17:36:55.197427Z",
          "shell.execute_reply.started": "2024-02-29T17:36:51.316746Z",
          "shell.execute_reply": "2024-02-29T17:36:55.196616Z"
        },
        "trusted": true,
        "id": "t_HVtwww9TD2"
      },
      "execution_count": 31,
      "outputs": []
    },
    {
      "cell_type": "markdown",
      "source": [
        "### Testing the semantic_cache class."
      ],
      "metadata": {
        "id": "UBWTqGM7i71N"
      }
    },
    {
      "cell_type": "code",
      "source": [
        "# Initialize the cache.\n",
        "cache = semantic_cache('4cache_file.json')"
      ],
      "metadata": {
        "id": "JH8s8eUtCMIS"
      },
      "execution_count": null,
      "outputs": []
    },
    {
      "cell_type": "code",
      "source": [
        "results = cache.ask(\"How work a vaccine?\")"
      ],
      "metadata": {
        "id": "mKqKLfDe_8bC",
        "outputId": "4194d783-9643-40c2-e052-d5aed52e1190",
        "colab": {
          "base_uri": "https://localhost:8080/"
        }
      },
      "execution_count": 33,
      "outputs": [
        {
          "output_type": "stream",
          "name": "stderr",
          "text": [
            "/root/.cache/chroma/onnx_models/all-MiniLM-L6-v2/onnx.tar.gz: 100%|██████████| 79.3M/79.3M [00:08<00:00, 10.1MiB/s]\n"
          ]
        },
        {
          "output_type": "stream",
          "name": "stdout",
          "text": [
            "Answer recovered from ChromaDB. \n",
            "response_text: Summary : Shots may hurt a little, but the diseases they can prevent are a lot worse. Some are even life-threatening. Immunization shots, or vaccinations, are essential. They protect against things like measles, mumps, rubella, hepatitis B, polio, tetanus, diphtheria, and pertussis (whooping cough). Immunizations are important for adults as well as children.    Your immune system helps your body fight germs by producing substances to combat them. Once it does, the immune system \"remembers\" the germ and can fight it again. Vaccines contain germs that have been killed or weakened. When given to a healthy person, the vaccine triggers the immune system to respond and thus build immunity.     Before vaccines, people became immune only by actually getting a disease and surviving it. Immunizations are an easier and less risky way to become immune.     NIH: National Institute of Allergy and Infectious Diseases\n",
            "Time taken: 10.427 seconds\n"
          ]
        }
      ]
    },
    {
      "cell_type": "markdown",
      "source": [
        "As expected, this response has been obtained from ChromaDB. The class then stores it in the cache.\n",
        "\n",
        "Now, if we send a second question that is quite different, the response should also be retrieved from ChromaDB. This is because the question stored previously is so dissimilar that it would surpass the specified threshold in terms of Euclidean distance."
      ],
      "metadata": {
        "id": "dP7H6TypknLN"
      }
    },
    {
      "cell_type": "code",
      "source": [
        "results = cache.ask(\"Explain briefly what is a Periodic Paralyses\")"
      ],
      "metadata": {
        "execution": {
          "iopub.status.busy": "2024-02-29T17:37:15.335288Z",
          "iopub.execute_input": "2024-02-29T17:37:15.335593Z",
          "iopub.status.idle": "2024-02-29T17:37:17.320691Z",
          "shell.execute_reply.started": "2024-02-29T17:37:15.335566Z",
          "shell.execute_reply": "2024-02-29T17:37:17.319671Z"
        },
        "trusted": true,
        "id": "CvJykqVf9TD2",
        "outputId": "3688d298-e70b-48d7-d075-05196c660279",
        "colab": {
          "base_uri": "https://localhost:8080/"
        }
      },
      "execution_count": 35,
      "outputs": [
        {
          "output_type": "stream",
          "name": "stdout",
          "text": [
            "Answer recovered from Cache. \n",
            "0.000 smaller than 0.35\n",
            "Found cache in row: 1 with score 0.000\n",
            "response_text: Familial periodic paralyses are a group of inherited neurological disorders caused by mutations in genes that regulate sodium and calcium channels in nerve cells. They are characterized by episodes in which the affected muscles become slack, weak, and unable to contract. Between attacks, the affected muscles usually work as normal.\n",
            "                \n",
            "The two most common types of periodic paralyses are: Hypokalemic periodic paralysis is characterized by a fall in potassium levels in the blood. In individuals with this mutation attacks often begin in adolescence and are triggered by strenuous exercise, high carbohydrate meals, or by injection of insulin, glucose, or epinephrine. Weakness may be mild and limited to certain muscle groups, or more severe and affect the arms and legs. Attacks may last for a few hours or persist for several days. Some patients may develop chronic muscle weakness later in life. Hyperkalemic periodic paralysis is characterized by a rise in potassium levels in the blood. Attacks often begin in infancy or early childhood and are precipitated by rest after exercise or by fasting. Attacks are usually shorter, more frequent, and less severe than the hypokalemic form. Muscle spasms are common.\n",
            "Time taken: 0.020 seconds\n"
          ]
        }
      ]
    },
    {
      "cell_type": "markdown",
      "source": [
        "Perfect, the semantic cache system is behaving as expected.\n",
        "\n",
        "Let's proceed to test it with a question very similar to the one we just asked.\n",
        "\n",
        "In this case, the response should come directly from the cache without the need to access the ChromaDB database."
      ],
      "metadata": {
        "id": "8aPWvU64lxOU"
      }
    },
    {
      "cell_type": "code",
      "source": [
        "results = cache.ask(\"Briefly explain me what is a periodic paralyses\")"
      ],
      "metadata": {
        "execution": {
          "iopub.status.busy": "2024-02-29T17:37:17.32865Z",
          "iopub.execute_input": "2024-02-29T17:37:17.328926Z",
          "iopub.status.idle": "2024-02-29T17:37:17.463363Z",
          "shell.execute_reply.started": "2024-02-29T17:37:17.328902Z",
          "shell.execute_reply": "2024-02-29T17:37:17.462397Z"
        },
        "trusted": true,
        "id": "9_5IcGB-9TD2",
        "outputId": "e2a6fddb-681e-4fc5-a2f3-7bb1c8dc1881",
        "colab": {
          "base_uri": "https://localhost:8080/"
        }
      },
      "execution_count": 36,
      "outputs": [
        {
          "output_type": "stream",
          "name": "stdout",
          "text": [
            "Answer recovered from Cache. \n",
            "0.018 smaller than 0.35\n",
            "Found cache in row: 1 with score 0.018\n",
            "response_text: Familial periodic paralyses are a group of inherited neurological disorders caused by mutations in genes that regulate sodium and calcium channels in nerve cells. They are characterized by episodes in which the affected muscles become slack, weak, and unable to contract. Between attacks, the affected muscles usually work as normal.\n",
            "                \n",
            "The two most common types of periodic paralyses are: Hypokalemic periodic paralysis is characterized by a fall in potassium levels in the blood. In individuals with this mutation attacks often begin in adolescence and are triggered by strenuous exercise, high carbohydrate meals, or by injection of insulin, glucose, or epinephrine. Weakness may be mild and limited to certain muscle groups, or more severe and affect the arms and legs. Attacks may last for a few hours or persist for several days. Some patients may develop chronic muscle weakness later in life. Hyperkalemic periodic paralysis is characterized by a rise in potassium levels in the blood. Attacks often begin in infancy or early childhood and are precipitated by rest after exercise or by fasting. Attacks are usually shorter, more frequent, and less severe than the hypokalemic form. Muscle spasms are common.\n",
            "Time taken: 0.020 seconds\n"
          ]
        }
      ]
    },
    {
      "cell_type": "markdown",
      "source": [
        "The two questions are so similar that their Euclidean distance is truly minimal, almost as if they were identical.\n",
        "\n",
        "Now, let's try another question, this time a bit more distinct, and observe how the system behaves."
      ],
      "metadata": {
        "id": "M4H8RoXFqdwE"
      }
    },
    {
      "cell_type": "code",
      "source": [
        "question_def = \"Write in 20 words what is a periodic paralyses\"\n",
        "results = cache.ask(question_def)"
      ],
      "metadata": {
        "id": "ysj5P_MBCqju",
        "outputId": "7dea101e-f38c-4788-aabc-383f66ce67e0",
        "colab": {
          "base_uri": "https://localhost:8080/"
        }
      },
      "execution_count": 49,
      "outputs": [
        {
          "output_type": "stream",
          "name": "stdout",
          "text": [
            "Answer recovered from Cache. \n",
            "0.220 smaller than 0.35\n",
            "Found cache in row: 1 with score 0.220\n",
            "response_text: Familial periodic paralyses are a group of inherited neurological disorders caused by mutations in genes that regulate sodium and calcium channels in nerve cells. They are characterized by episodes in which the affected muscles become slack, weak, and unable to contract. Between attacks, the affected muscles usually work as normal.\n",
            "                \n",
            "The two most common types of periodic paralyses are: Hypokalemic periodic paralysis is characterized by a fall in potassium levels in the blood. In individuals with this mutation attacks often begin in adolescence and are triggered by strenuous exercise, high carbohydrate meals, or by injection of insulin, glucose, or epinephrine. Weakness may be mild and limited to certain muscle groups, or more severe and affect the arms and legs. Attacks may last for a few hours or persist for several days. Some patients may develop chronic muscle weakness later in life. Hyperkalemic periodic paralysis is characterized by a rise in potassium levels in the blood. Attacks often begin in infancy or early childhood and are precipitated by rest after exercise or by fasting. Attacks are usually shorter, more frequent, and less severe than the hypokalemic form. Muscle spasms are common.\n",
            "Time taken: 0.063 seconds\n"
          ]
        }
      ]
    },
    {
      "cell_type": "markdown",
      "source": [
        "We observe that the Euclidean distance has increased, but it still remains within the specified threshold. Therefore, it continues to return the response directly from the cache."
      ],
      "metadata": {
        "id": "MFzXsQwB9TD3"
      }
    },
    {
      "cell_type": "markdown",
      "source": [
        "\n",
        " # We use TRANSFORMERS for working with language models (LLMs).\n",
        "The three main tools used here are:\n",
        "\n",
        "1️⃣ AutoTokenizer → An automatic tokenizer that converts text into tokens suitable for the model.\n",
        "\n",
        "2️⃣ AutoModelForCausalLM → Language models based on Causal Language Modeling (like GPT) for text generation.\n",
        "\n",
        "3️⃣ pipeline → A simple interface for performing NLP tasks such as text generation or text classification.  "
      ],
      "metadata": {
        "id": "Ot3wrq0p9TD3"
      }
    },
    {
      "cell_type": "code",
      "source": [
        "from torch import cuda, torch\n",
        "device = f'cuda:{cuda.current_device()}' if cuda.is_available() else 'cpu'\n",
        "from transformers import AutoTokenizer, AutoModelForCausalLM"
      ],
      "metadata": {
        "execution": {
          "iopub.status.busy": "2024-02-29T17:40:44.153914Z",
          "iopub.execute_input": "2024-02-29T17:40:44.15434Z",
          "iopub.status.idle": "2024-02-29T17:40:44.160144Z",
          "shell.execute_reply.started": "2024-02-29T17:40:44.154292Z",
          "shell.execute_reply": "2024-02-29T17:40:44.159154Z"
        },
        "trusted": true,
        "id": "pIDMTCnH9TD7"
      },
      "execution_count": 57,
      "outputs": []
    },
    {
      "cell_type": "code",
      "source": [
        "model_id = \"google/gemma-2b-it\"    #model_id = \"databricks/dolly-v2-3b\"\n",
        "tokenizer = AutoTokenizer.from_pretrained(model_id)\n",
        "model = AutoModelForCausalLM.from_pretrained(model_id,\n",
        "                                             device_map=\"cuda\",\n",
        "                                            torch_dtype=torch.bfloat16)"
      ],
      "metadata": {
        "execution": {
          "iopub.status.busy": "2024-02-29T17:41:25.628412Z",
          "iopub.execute_input": "2024-02-29T17:41:25.628804Z",
          "iopub.status.idle": "2024-02-29T17:41:30.202141Z",
          "shell.execute_reply.started": "2024-02-29T17:41:25.628766Z",
          "shell.execute_reply": "2024-02-29T17:41:30.200774Z"
        },
        "trusted": true,
        "id": "CU2T4lp-9TD7"
      },
      "execution_count": null,
      "outputs": []
    },
    {
      "cell_type": "markdown",
      "source": [
        "# To use or not to use the pipeline\n",
        "📌 When should we use pipeline?\n",
        "\n",
        "For quick and simple tasks, such as testing the model with short inputs.\n",
        "When we don't want to manually handle tokenization, input processing, and model execution.\n",
        "For tasks like summarization, translation, and text generation without needing complex configurations.\n",
        "\n",
        "📌 When should we use AutoModelForCausalLM and AutoTokenizer?\n",
        "\n",
        "When we need precise control over the model and data processing.\n",
        "In advanced scenarios such as RAG, batch processing, GPU optimization, and custom model settings.\n",
        "When we want to fine-tune the model and manage the output more accurately."
      ],
      "metadata": {
        "id": "mYLFN-3z5QhU"
      }
    },
    {
      "cell_type": "markdown",
      "source": [
        "## Creating the extended prompt\n",
        "To create the prompt we use the result from query the 'semantic_cache' class  and the question introduced by the user.\n",
        "\n",
        "The prompt have two parts, the **relevant context** that is the information recovered from the database and the **user's question**.\n",
        "\n",
        "We only need to put the two parts together to create the prompt then send it to the model."
      ],
      "metadata": {
        "id": "GzHuFrAX9TD7"
      }
    },
    {
      "cell_type": "code",
      "source": [
        "prompt_template = f\"\"\"\n",
        "You are an AI assistant that provides clear and concise answers based on the given context.\n",
        "\n",
        "Relevant context: {results}\n",
        "\n",
        "The user's question: {question_def}\n",
        "\n",
        "Please provide a detailed yet concise answer.\n",
        "\"\"\"\n",
        "print(prompt_template)"
      ],
      "metadata": {
        "id": "TdjbfAHhFuhS",
        "outputId": "1d7db72e-618c-4330-9271-a990a2e76897",
        "colab": {
          "base_uri": "https://localhost:8080/"
        }
      },
      "execution_count": 62,
      "outputs": [
        {
          "output_type": "stream",
          "name": "stdout",
          "text": [
            "\n",
            "You are an AI assistant that provides clear and concise answers based on the given context.\n",
            "\n",
            "Relevant context: Familial periodic paralyses are a group of inherited neurological disorders caused by mutations in genes that regulate sodium and calcium channels in nerve cells. They are characterized by episodes in which the affected muscles become slack, weak, and unable to contract. Between attacks, the affected muscles usually work as normal.\n",
            "                \n",
            "The two most common types of periodic paralyses are: Hypokalemic periodic paralysis is characterized by a fall in potassium levels in the blood. In individuals with this mutation attacks often begin in adolescence and are triggered by strenuous exercise, high carbohydrate meals, or by injection of insulin, glucose, or epinephrine. Weakness may be mild and limited to certain muscle groups, or more severe and affect the arms and legs. Attacks may last for a few hours or persist for several days. Some patients may develop chronic muscle weakness later in life. Hyperkalemic periodic paralysis is characterized by a rise in potassium levels in the blood. Attacks often begin in infancy or early childhood and are precipitated by rest after exercise or by fasting. Attacks are usually shorter, more frequent, and less severe than the hypokalemic form. Muscle spasms are common.\n",
            "\n",
            "The user's question: Write in 20 words what is a periodic paralyses\n",
            "\n",
            "Please provide a detailed yet concise answer.\n",
            "\n"
          ]
        }
      ]
    },
    {
      "cell_type": "code",
      "source": [
        "input_ids = tokenizer(prompt_template, return_tensors=\"pt\").to(\"cuda\")   # pt = pytorch tensor"
      ],
      "metadata": {
        "id": "DmYAcXEEECnz"
      },
      "execution_count": 60,
      "outputs": []
    },
    {
      "cell_type": "code",
      "source": [
        "outputs = model.generate(**input_ids,max_new_tokens=256)\n",
        "print(tokenizer.decode(outputs[0]))"
      ],
      "metadata": {
        "id": "lheL8vHpEMDD",
        "outputId": "8683b8ac-f37b-4a61-ee83-0f33af38cf73",
        "colab": {
          "base_uri": "https://localhost:8080/"
        }
      },
      "execution_count": 61,
      "outputs": [
        {
          "output_type": "stream",
          "name": "stdout",
          "text": [
            "<bos>\n",
            "You are an AI assistant that provides clear and concise answers based on the given context.\n",
            "\n",
            "Relevant context: Familial periodic paralyses are a group of inherited neurological disorders caused by mutations in genes that regulate sodium and calcium channels in nerve cells. They are characterized by episodes in which the affected muscles become slack, weak, and unable to contract. Between attacks, the affected muscles usually work as normal.\n",
            "                \n",
            "The two most common types of periodic paralyses are: Hypokalemic periodic paralysis is characterized by a fall in potassium levels in the blood. In individuals with this mutation attacks often begin in adolescence and are triggered by strenuous exercise, high carbohydrate meals, or by injection of insulin, glucose, or epinephrine. Weakness may be mild and limited to certain muscle groups, or more severe and affect the arms and legs. Attacks may last for a few hours or persist for several days. Some patients may develop chronic muscle weakness later in life. Hyperkalemic periodic paralysis is characterized by a rise in potassium levels in the blood. Attacks often begin in infancy or early childhood and are precipitated by rest after exercise or by fasting. Attacks are usually shorter, more frequent, and less severe than the hypokalemic form. Muscle spasms are common.\n",
            "\n",
            "The user's question: Write in 20 words what is a periodic paralyses\n",
            "\n",
            "Please provide a detailed yet concise answer.\n",
            "Sure, here's a 20-word answer:\n",
            "\n",
            "A group of inherited neurological disorders characterized by episodes of muscle weakness and paralysis.<eos>\n"
          ]
        }
      ]
    },
    {
      "cell_type": "code",
      "source": [],
      "metadata": {
        "id": "UkhXFkXB9YFH"
      },
      "execution_count": null,
      "outputs": []
    }
  ]
}